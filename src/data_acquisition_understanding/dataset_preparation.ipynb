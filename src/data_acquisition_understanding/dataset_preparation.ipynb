{
 "cells": [
  {
   "cell_type": "code",
   "execution_count": 1,
   "metadata": {},
   "outputs": [],
   "source": [
    "from astropy.io import fits\n",
    "from astropy.table import Table\n",
    "\n",
    "import os\n"
   ]
  },
  {
   "cell_type": "code",
   "execution_count": 2,
   "metadata": {},
   "outputs": [],
   "source": [
    "root_path = \"/home/mike/git/computational_astro/astro_iqa\"\n",
    "data_path = \"data/raw\"\n",
    "data_path = os.path.join(root_path, data_path)\n",
    "\n",
    "# List all fits files in the data directory\n",
    "fits_files = [f for f in os.listdir(data_path) if f.endswith(\".fits.fz\")]"
   ]
  },
  {
   "cell_type": "code",
   "execution_count": 4,
   "metadata": {},
   "outputs": [
    {
     "name": "stderr",
     "output_type": "stream",
     "text": [
      "\n",
      "> WARNING: Deblending overflow for detection at 1,1\n",
      "\n"
     ]
    }
   ],
   "source": [
    "# For each fits file, generate ldac file with sextractor\n",
    "config_file = \"xymfhe.sex\"\n",
    "for fits_file in fits_files:\n",
    "    fits_path = os.path.join(data_path, fits_file)\n",
    "    ldac_path = fits_path.replace(\".fits.fz\", \".ldac\")\n",
    "    if not os.path.exists(ldac_path):\n",
    "        os.system(\"sex {} -c {}\".format(fits_path, config_file))\n",
    "        os.system(\"mv {} {}\".format(\"test.cat\", ldac_path))"
   ]
  },
  {
   "cell_type": "code",
   "execution_count": 4,
   "metadata": {},
   "outputs": [],
   "source": [
    "objects_catalog = \"som_objects_catalog.hdf5\"\n",
    "fits_catalog = \"som_fits_catalog.hdf5\"\n",
    "catalog_path = os.path.join(root_path, \"data/processed\")\n",
    "filename = os.path.join(catalog_path, objects_catalog)\n",
    "\n",
    "# For each ldac file, read each table of each ccd\n",
    "for ldac_file in [f for f in os.listdir(data_path) if f.endswith(\".ldac\")]:\n",
    "    fits_id, extension = os.path.splitext(ldac_file)\n",
    "    ldac_path = os.path.join(data_path, ldac_file)\n",
    "    ldac = fits.open(ldac_path)\n",
    "    # print(ldac.info())\n",
    "    ldac_tables = [hdu for hdu in ldac if isinstance(hdu, fits.BinTableHDU)]\n",
    "    n_ccd = len(ldac_tables)\n",
    "    fits_catalog = Table(names=(\"fits_id\", \"filename\", \"n_ccd\"), dtype=(\"S2\", \"S2\", \"i2\"))\n",
    "    fits_catalog.add_row([fits_id, fits_id+\".fits.fz\", n_ccd])\n",
    "    for i in range(1, len(ldac)):\n",
    "        if ldac[i].data is not None and ldac[i].data.shape[0] > 0:\n",
    "            table = Table(ldac[i].data)\n",
    "            table.add_column(fits_id, name=\"fits_id\", index=0)\n",
    "            table.add_column(i, name=\"ccd_id\", index=1)\n",
    "            # print(\"Updating catalog file in {}\".format(data_path))\n",
    "            table.write(filename, path=filename, format=\"hdf5\", overwrite=True, append=True)\n",
    "    ldac.close()"
   ]
  }
 ],
 "metadata": {
  "kernelspec": {
   "display_name": "astro_quality",
   "language": "python",
   "name": "python3"
  },
  "language_info": {
   "codemirror_mode": {
    "name": "ipython",
    "version": 3
   },
   "file_extension": ".py",
   "mimetype": "text/x-python",
   "name": "python",
   "nbconvert_exporter": "python",
   "pygments_lexer": "ipython3",
   "version": "3.11.5"
  }
 },
 "nbformat": 4,
 "nbformat_minor": 2
}
