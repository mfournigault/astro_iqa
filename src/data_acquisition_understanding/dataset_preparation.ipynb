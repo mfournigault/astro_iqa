{
 "cells": [
  {
   "cell_type": "code",
   "execution_count": 1,
   "metadata": {},
   "outputs": [],
   "source": [
    "from astropy.io import fits\n",
    "from astropy.table import Table\n",
    "\n",
    "import os\n"
   ]
  },
  {
   "cell_type": "code",
   "execution_count": 13,
   "metadata": {},
   "outputs": [],
   "source": [
    "root_path = \"/home/mike/git/computational_astro/Megacam_Prediction\"\n",
    "data_path = \"data\"\n",
    "data_path = os.path.join(root_path, data_path)\n",
    "\n",
    "# List all fits files in the data directory\n",
    "fits_files = [f for f in os.listdir(data_path) if f.endswith(\".fits.fz\")]"
   ]
  },
  {
   "cell_type": "code",
   "execution_count": 5,
   "metadata": {},
   "outputs": [
    {
     "name": "stderr",
     "output_type": "stream",
     "text": [
      "\n",
      "> WARNING: Image contains mainly constant data; I'll try to cope with that...\n",
      "\n"
     ]
    }
   ],
   "source": [
    "# For each fits file, generate ldac file with sextractor\n",
    "config_file = \"xymfhe.sex\"\n",
    "for fits_file in fits_files:\n",
    "    fits_path = os.path.join(data_path, fits_file)\n",
    "    ldac_path = fits_path.replace(\".fits.fz\", \".ldac\")\n",
    "    if not os.path.exists(ldac_path):\n",
    "        os.system(\"sex {} -c {}\".format(fits_path, config_file))\n",
    "        os.system(\"mv {} {}\".format(\"test.cat\", ldac_path))"
   ]
  },
  {
   "cell_type": "code",
   "execution_count": 25,
   "metadata": {},
   "outputs": [
    {
     "name": "stdout",
     "output_type": "stream",
     "text": [
      "Filename: /home/mike/git/computational_astro/Megacam_Prediction/data/718683p.ldac\n",
      "No.    Name      Ver    Type      Cards   Dimensions   Format\n",
      "  0  PRIMARY       1 PrimaryHDU      53   ()      \n",
      "  1  OBJECTS       1 BinTableHDU     37   2088R x 8C   [1E, 1E, 1J, 1E, 1E, 1E, 1E, 1I]   \n",
      "  2  OBJECTS       1 BinTableHDU     37   2097R x 8C   [1E, 1E, 1J, 1E, 1E, 1E, 1E, 1I]   \n",
      "  3  OBJECTS       1 BinTableHDU     37   2009R x 8C   [1E, 1E, 1J, 1E, 1E, 1E, 1E, 1I]   \n",
      "  4  OBJECTS       1 BinTableHDU     37   0R x 8C   [1E, 1E, 1J, 1E, 1E, 1E, 1E, 1I]   \n",
      "  5  OBJECTS       1 BinTableHDU     37   2055R x 8C   [1E, 1E, 1J, 1E, 1E, 1E, 1E, 1I]   \n",
      "  6  OBJECTS       1 BinTableHDU     37   2044R x 8C   [1E, 1E, 1J, 1E, 1E, 1E, 1E, 1I]   \n",
      "  7  OBJECTS       1 BinTableHDU     37   2035R x 8C   [1E, 1E, 1J, 1E, 1E, 1E, 1E, 1I]   \n",
      "  8  OBJECTS       1 BinTableHDU     37   2151R x 8C   [1E, 1E, 1J, 1E, 1E, 1E, 1E, 1I]   \n",
      "  9  OBJECTS       1 BinTableHDU     37   2433R x 8C   [1E, 1E, 1J, 1E, 1E, 1E, 1E, 1I]   \n",
      " 10  OBJECTS       1 BinTableHDU     37   1989R x 8C   [1E, 1E, 1J, 1E, 1E, 1E, 1E, 1I]   \n",
      " 11  OBJECTS       1 BinTableHDU     37   1942R x 8C   [1E, 1E, 1J, 1E, 1E, 1E, 1E, 1I]   \n",
      " 12  OBJECTS       1 BinTableHDU     37   2100R x 8C   [1E, 1E, 1J, 1E, 1E, 1E, 1E, 1I]   \n",
      " 13  OBJECTS       1 BinTableHDU     37   2521R x 8C   [1E, 1E, 1J, 1E, 1E, 1E, 1E, 1I]   \n",
      " 14  OBJECTS       1 BinTableHDU     37   2042R x 8C   [1E, 1E, 1J, 1E, 1E, 1E, 1E, 1I]   \n",
      " 15  OBJECTS       1 BinTableHDU     37   2077R x 8C   [1E, 1E, 1J, 1E, 1E, 1E, 1E, 1I]   \n",
      " 16  OBJECTS       1 BinTableHDU     37   2062R x 8C   [1E, 1E, 1J, 1E, 1E, 1E, 1E, 1I]   \n",
      " 17  OBJECTS       1 BinTableHDU     37   2170R x 8C   [1E, 1E, 1J, 1E, 1E, 1E, 1E, 1I]   \n",
      " 18  OBJECTS       1 BinTableHDU     37   2428R x 8C   [1E, 1E, 1J, 1E, 1E, 1E, 1E, 1I]   \n",
      " 19  OBJECTS       1 BinTableHDU     37   1983R x 8C   [1E, 1E, 1J, 1E, 1E, 1E, 1E, 1I]   \n",
      " 20  OBJECTS       1 BinTableHDU     37   2017R x 8C   [1E, 1E, 1J, 1E, 1E, 1E, 1E, 1I]   \n",
      " 21  OBJECTS       1 BinTableHDU     37   1903R x 8C   [1E, 1E, 1J, 1E, 1E, 1E, 1E, 1I]   \n",
      " 22  OBJECTS       1 BinTableHDU     37   2090R x 8C   [1E, 1E, 1J, 1E, 1E, 1E, 1E, 1I]   \n",
      " 23  OBJECTS       1 BinTableHDU     37   2060R x 8C   [1E, 1E, 1J, 1E, 1E, 1E, 1E, 1I]   \n",
      " 24  OBJECTS       1 BinTableHDU     37   1963R x 8C   [1E, 1E, 1J, 1E, 1E, 1E, 1E, 1I]   \n",
      " 25  OBJECTS       1 BinTableHDU     37   2053R x 8C   [1E, 1E, 1J, 1E, 1E, 1E, 1E, 1I]   \n",
      " 26  OBJECTS       1 BinTableHDU     37   1973R x 8C   [1E, 1E, 1J, 1E, 1E, 1E, 1E, 1I]   \n",
      " 27  OBJECTS       1 BinTableHDU     37   1910R x 8C   [1E, 1E, 1J, 1E, 1E, 1E, 1E, 1I]   \n",
      " 28  OBJECTS       1 BinTableHDU     37   2207R x 8C   [1E, 1E, 1J, 1E, 1E, 1E, 1E, 1I]   \n",
      " 29  OBJECTS       1 BinTableHDU     37   2126R x 8C   [1E, 1E, 1J, 1E, 1E, 1E, 1E, 1I]   \n",
      " 30  OBJECTS       1 BinTableHDU     37   1982R x 8C   [1E, 1E, 1J, 1E, 1E, 1E, 1E, 1I]   \n",
      " 31  OBJECTS       1 BinTableHDU     37   2374R x 8C   [1E, 1E, 1J, 1E, 1E, 1E, 1E, 1I]   \n",
      " 32  OBJECTS       1 BinTableHDU     37   2129R x 8C   [1E, 1E, 1J, 1E, 1E, 1E, 1E, 1I]   \n",
      " 33  OBJECTS       1 BinTableHDU     37   2288R x 8C   [1E, 1E, 1J, 1E, 1E, 1E, 1E, 1I]   \n",
      " 34  OBJECTS       1 BinTableHDU     37   2313R x 8C   [1E, 1E, 1J, 1E, 1E, 1E, 1E, 1I]   \n",
      " 35  OBJECTS       1 BinTableHDU     37   2993R x 8C   [1E, 1E, 1J, 1E, 1E, 1E, 1E, 1I]   \n",
      " 36  OBJECTS       1 BinTableHDU     37   1774R x 8C   [1E, 1E, 1J, 1E, 1E, 1E, 1E, 1I]   \n",
      "None\n",
      "Updating catalog file in /home/mike/git/computational_astro/Megacam_Prediction/data\n",
      "Updating catalog file in /home/mike/git/computational_astro/Megacam_Prediction/data\n",
      "Updating catalog file in /home/mike/git/computational_astro/Megacam_Prediction/data\n",
      "Updating catalog file in /home/mike/git/computational_astro/Megacam_Prediction/data\n",
      "Updating catalog file in /home/mike/git/computational_astro/Megacam_Prediction/data\n",
      "Updating catalog file in /home/mike/git/computational_astro/Megacam_Prediction/data\n",
      "Updating catalog file in /home/mike/git/computational_astro/Megacam_Prediction/data\n",
      "Updating catalog file in /home/mike/git/computational_astro/Megacam_Prediction/data\n",
      "Updating catalog file in /home/mike/git/computational_astro/Megacam_Prediction/data\n",
      "Updating catalog file in /home/mike/git/computational_astro/Megacam_Prediction/data\n",
      "Updating catalog file in /home/mike/git/computational_astro/Megacam_Prediction/data\n",
      "Updating catalog file in /home/mike/git/computational_astro/Megacam_Prediction/data\n",
      "Updating catalog file in /home/mike/git/computational_astro/Megacam_Prediction/data\n",
      "Updating catalog file in /home/mike/git/computational_astro/Megacam_Prediction/data\n",
      "Updating catalog file in /home/mike/git/computational_astro/Megacam_Prediction/data\n",
      "Updating catalog file in /home/mike/git/computational_astro/Megacam_Prediction/data\n",
      "Updating catalog file in /home/mike/git/computational_astro/Megacam_Prediction/data\n",
      "Updating catalog file in /home/mike/git/computational_astro/Megacam_Prediction/data\n",
      "Updating catalog file in /home/mike/git/computational_astro/Megacam_Prediction/data\n",
      "Updating catalog file in /home/mike/git/computational_astro/Megacam_Prediction/data\n",
      "Updating catalog file in /home/mike/git/computational_astro/Megacam_Prediction/data\n",
      "Updating catalog file in /home/mike/git/computational_astro/Megacam_Prediction/data\n",
      "Updating catalog file in /home/mike/git/computational_astro/Megacam_Prediction/data\n",
      "Updating catalog file in /home/mike/git/computational_astro/Megacam_Prediction/data\n",
      "Updating catalog file in /home/mike/git/computational_astro/Megacam_Prediction/data\n",
      "Updating catalog file in /home/mike/git/computational_astro/Megacam_Prediction/data\n",
      "Updating catalog file in /home/mike/git/computational_astro/Megacam_Prediction/data\n",
      "Updating catalog file in /home/mike/git/computational_astro/Megacam_Prediction/data\n",
      "Updating catalog file in /home/mike/git/computational_astro/Megacam_Prediction/data\n",
      "Updating catalog file in /home/mike/git/computational_astro/Megacam_Prediction/data\n",
      "Updating catalog file in /home/mike/git/computational_astro/Megacam_Prediction/data\n",
      "Updating catalog file in /home/mike/git/computational_astro/Megacam_Prediction/data\n",
      "Updating catalog file in /home/mike/git/computational_astro/Megacam_Prediction/data\n",
      "Updating catalog file in /home/mike/git/computational_astro/Megacam_Prediction/data\n",
      "Updating catalog file in /home/mike/git/computational_astro/Megacam_Prediction/data\n"
     ]
    }
   ],
   "source": [
    "objects_catalog = \"som_objects_catalog.hdf5\"\n",
    "fits_catalog = \"som_fits_catalog.hdf5\"\n",
    "filename = os.path.join(data_path, objects_catalog)\n",
    "\n",
    "# For each ldac file, read each table of each ccd\n",
    "for ldac_file in [f for f in os.listdir(data_path) if f.endswith(\".ldac\")]:\n",
    "    fits_id, extension = os.path.splitext(ldac_file)\n",
    "    ldac_path = os.path.join(data_path, ldac_file)\n",
    "    ldac = fits.open(ldac_path)\n",
    "    print(ldac.info())\n",
    "    ldac_tables = [hdu for hdu in ldac if isinstance(hdu, fits.BinTableHDU)]\n",
    "    n_ccd = len(ldac_tables)\n",
    "    fits_catalog = Table(names=(\"fits_id\", \"filename\", \"n_ccd\"), dtype=(\"S2\", \"S2\", \"i2\"))\n",
    "    fits_catalog.add_row([fits_id, fits_id+\".fits.fz\", n_ccd])\n",
    "    for i in range(1, len(ldac)):\n",
    "        if ldac[i].data is not None and ldac[i].data.shape[0] > 0:\n",
    "            table = Table(ldac[i].data)\n",
    "            table.add_column(fits_id, name=\"fits_id\", index=0)\n",
    "            table.add_column(i, name=\"ccd_id\", index=1)\n",
    "            print(\"Updating catalog file in {}\".format(data_path))\n",
    "            table.write(filename, path=filename, format=\"hdf5\", overwrite=True, append=True)\n",
    "    ldac.close()"
   ]
  }
 ],
 "metadata": {
  "kernelspec": {
   "display_name": "astro_quality",
   "language": "python",
   "name": "python3"
  },
  "language_info": {
   "codemirror_mode": {
    "name": "ipython",
    "version": 3
   },
   "file_extension": ".py",
   "mimetype": "text/x-python",
   "name": "python",
   "nbconvert_exporter": "python",
   "pygments_lexer": "ipython3",
   "version": "3.11.5"
  }
 },
 "nbformat": 4,
 "nbformat_minor": 2
}
