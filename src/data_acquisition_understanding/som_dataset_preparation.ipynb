# Creating the database
db_name = "database_objects_som.db"
db_manager = DatabaseManager(db_name)
# Initialising tables of the database
db_manager.create_database()

# Populating the table of fits
for fits_ in fits_files:
    ldac = fits_.open(os.path.join(data_path, fits_+".fits.fz"))
    fits_entries = [FitsFile(fits, []) for fits in fits_files ]
    fits_file = FitsFile(fits_, list(range(1, 37)))
    fits_id = db_manager.add_fits_file(fits_file)

    # Populating the table of detected objects
    ldac_filename = os.path.join(data_path, fits_ + ".ldac")
    detected_objects = read_ldac_file(ldac_filename)
    for detected_object in detected_objects:
        detected_object.fits_id = fits_id
        db_manager.add_detected_object(detected_object)
fits_file = FitsFile("example.fits", list(range(1, 37)))
fits_id = db_manager.add_fits_file(fits_file)

# Ajouter un objet détecté
detected_object = DetectedObject(fits_id, 1, 10.0, 0.5, 0.3, 1.2, 0.95, 0, 300.0)
db_manager.add_detected_object(detected_object)

# Supprimer un fichier FITS
db_manager.delete_fits_file(fits_id)

# Fermer la connexion à la base de données
db_manager.close()
