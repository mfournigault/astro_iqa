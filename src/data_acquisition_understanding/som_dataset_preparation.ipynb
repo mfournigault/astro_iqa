{
 "cells": [
  {
   "cell_type": "code",
   "execution_count": 1,
   "metadata": {},
   "outputs": [],
   "source": [
    "from astropy.io import fits\n",
    "from astropy.table import Table, vstack\n",
    "\n",
    "import numpy as np\n",
    "import os\n",
    "import uuid"
   ]
  },
  {
   "cell_type": "code",
   "execution_count": null,
   "metadata": {},
   "outputs": [],
   "source": [
    "root_path = \"/home/mike/git/computational_astro/astro_iqa\"\n",
    "data_path = \"data/raw/ngc7000\"\n",
    "data_path = os.path.join(root_path, data_path)\n",
    "\n",
    "# List all fits files in the data directory\n",
    "fits_files = [f for f in os.listdir(data_path) if f.endswith(\".fit\")]"
   ]
  },
  {
   "cell_type": "code",
   "execution_count": 16,
   "metadata": {},
   "outputs": [],
   "source": [
    "# For each fits file, generate ldac file with sextractor\n",
    "# config_file = \"xymfhe.sex\"\n",
    "# for fits_file in fits_files:\n",
    "#     fits_path = os.path.join(data_path, fits_file)\n",
    "#     ldac_path = fits_path.replace(\".fit\", \".ldac\")\n",
    "#     if not os.path.exists(ldac_path):\n",
    "#         os.system(\"sex {} -c {}\".format(fits_path, config_file))\n",
    "#         os.system(\"mv {} {}\".format(\"test.cat\", ldac_path))"
   ]
  },
  {
   "cell_type": "code",
   "execution_count": 17,
   "metadata": {},
   "outputs": [],
   "source": [
    "def log_scale_data (data, mini, maxi):\n",
    "    data = np.where(data < mini, mini, data)\n",
    "    data = np.where(data > maxi, maxi, data)\n",
    "    data = np.log10(data)\n",
    "    return data\n",
    "\n",
    "def remove_outliers (data, mini, maxi):\n",
    "    data = np.where(data < mini, mini, data)\n",
    "    data = np.where(data > maxi, maxi, data)\n",
    "    return data"
   ]
  },
  {
   "cell_type": "code",
   "execution_count": null,
   "metadata": {},
   "outputs": [
    {
     "name": "stdout",
     "output_type": "stream",
     "text": [
      "Processing /home/mike/git/computational_astro/astro_iqa/data/raw/ngc0896/ngc0896_220524_raw_00001.ldac\n",
      "Processing /home/mike/git/computational_astro/astro_iqa/data/raw/ngc0896/ngc0896_220524_raw_00002.ldac\n",
      "Processing /home/mike/git/computational_astro/astro_iqa/data/raw/ngc0896/ngc0896_220524_raw_00003.ldac\n",
      "Processing /home/mike/git/computational_astro/astro_iqa/data/raw/ngc0896/ngc0896_220524_raw_00004.ldac\n",
      "Processing /home/mike/git/computational_astro/astro_iqa/data/raw/ngc0896/ngc0896_220524_raw_00005.ldac\n",
      "Processing /home/mike/git/computational_astro/astro_iqa/data/raw/ngc0896/ngc0896_220524_raw_00006.ldac\n"
     ]
    }
   ],
   "source": [
    "# objects_catalog = \"som_objects_catalog_ngc7000.hdf5\"\n",
    "objects_catalog = \"objects_catalog_ngc7000_bronze.parquet.gz\"\n",
    "# catalog_path = os.path.join(root_path, \"data/processed\")\n",
    "catalog_path = os.path.join(root_path, \"data/for_modeling\")\n",
    "filename = os.path.join(catalog_path, objects_catalog)\n",
    "\n",
    "# Initializing the global catalog\n",
    "catalog = Table(names=(\"FITS_ID\", \"CCD_ID\", \"OBJECT_ID\", \"ISO0\", \"BACKGROUND\", \"ELLIPTICITY\", \"ELONGATION\", \"CLASS_STAR\", \"FLAGS\", \"EXPTIME\"), \n",
    "    dtype=(\"S12\", np.uint8, \"S32\", np.float32, np.float32, np.float32, np.float32, np.float32, np.int16, np.float32))\n",
    "# For each ldac file, read each table of each ccd\n",
    "for ldac_file in [f for f in os.listdir(data_path) if f.endswith(\".ldac\")]:\n",
    "    fits_id, extension = os.path.splitext(ldac_file)\n",
    "    ldac_path = os.path.join(data_path, ldac_file)\n",
    "    print(\"Processing {}\".format(ldac_path))\n",
    "    ldac = fits.open(ldac_path)\n",
    "    # print(ldac.info())\n",
    "    ldac_tables = [hdu for hdu in ldac if isinstance(hdu, fits.BinTableHDU)]\n",
    "    n_ccd = len(ldac_tables)\n",
    "    fits_ = fits.open(os.path.join(data_path, fits_id+\".fit\"))\n",
    "    for i in range(1, len(ldac)):\n",
    "        if ldac[i].data is not None and ldac[i].data.shape[0] > 0:\n",
    "            table = Table(ldac[i].data)\n",
    "            table.add_column(fits_id, name=\"FITS_ID\", index=0)\n",
    "            table.add_column(np.uint8(i), name=\"CCD_ID\", index=1)\n",
    "            ids = [str(uuid.uuid4().hex) for i in range(ldac[i].data.shape[0])]\n",
    "            table.add_column(ids, name=\"OBJECT_ID\", index=2) # there is a bug in the generation of the unique id, it should be unique for each row of the table\n",
    "            # TODO: fix the bug in the generation of the unique id by using the equialent of the function apply in pandas            \n",
    "            try:\n",
    "                exptime = fits_[i].header[\"EXPTIME\"]\n",
    "            except:\n",
    "                exptime = 30\n",
    "            table.add_column(exptime, name=\"EXPTIME\")\n",
    "            # normalise data before their registration\n",
    "            try:\n",
    "                table[\"ISO0\"] = table[\"ISO0\"].astype(np.float32)\n",
    "                # table[\"ISO0\"] = log_scale_data(table[\"ISO0\"], 0.00001, 10000)\n",
    "                table[\"ELLIPTICITY\"] = remove_outliers(table[\"ELLIPTICITY\"], 0.00001, 1)\n",
    "                # table[\"EXPTIME\"] = log_scale_data(exptime * np.abs(table[\"BACKGROUND\"]/np.mean(table[\"BACKGROUND\"])), 0.00001, 30)\n",
    "                table[\"BACKGROUND\"] = remove_outliers((table[\"BACKGROUND\"]-np.mean(table[\"BACKGROUND\"])/np.std(table[\"BACKGROUND\"])), -2., 2.)\n",
    "                # print(\"Updating catalog file in {}\".format(data_path))\n",
    "                # integration table data into the catalog\n",
    "                # print(table.info())\n",
    "                catalog = vstack([catalog, table])\n",
    "            except:\n",
    "                # In case one the ldac tables is empty or corrupted, we skip it\n",
    "                continue\n",
    "    # print(catalog.info())\n",
    "    fits_.close()\n",
    "    ldac.close()\n",
    "\n"
   ]
  },
  {
   "cell_type": "code",
   "execution_count": 19,
   "metadata": {},
   "outputs": [],
   "source": [
    "# Save the catalog\n",
    "# catalog.write(filename, path=\"som_catalog\", format=\"hdf5\", overwrite=True, append=True)\n",
    "catalog_df = catalog.to_pandas()\n",
    "catalog_df.to_parquet(filename, compression=\"gzip\", engine=\"auto\")"
   ]
  }
 ],
 "metadata": {
  "kernelspec": {
   "display_name": "astro_quality",
   "language": "python",
   "name": "python3"
  },
  "language_info": {
   "codemirror_mode": {
    "name": "ipython",
    "version": 3
   },
   "file_extension": ".py",
   "mimetype": "text/x-python",
   "name": "python",
   "nbconvert_exporter": "python",
   "pygments_lexer": "ipython3",
   "version": "3.9.7"
  }
 },
 "nbformat": 4,
 "nbformat_minor": 2
}
