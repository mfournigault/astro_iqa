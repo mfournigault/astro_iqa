{
 "cells": [
  {
   "cell_type": "code",
   "execution_count": 1,
   "metadata": {
    "id": "9stLJR7J1Fhl"
   },
   "outputs": [
    {
     "name": "stderr",
     "output_type": "stream",
     "text": [
      "2025-03-26 15:37:38.195837: I tensorflow/core/util/port.cc:113] oneDNN custom operations are on. You may see slightly different numerical results due to floating-point round-off errors from different computation orders. To turn them off, set the environment variable `TF_ENABLE_ONEDNN_OPTS=0`.\n",
      "2025-03-26 15:37:38.255654: I tensorflow/core/platform/cpu_feature_guard.cc:182] This TensorFlow binary is optimized to use available CPU instructions in performance-critical operations.\n",
      "To enable the following instructions: AVX2 AVX512F AVX512_VNNI FMA, in other operations, rebuild TensorFlow with the appropriate compiler flags.\n"
     ]
    }
   ],
   "source": [
    "import os\n",
    "import sys\n",
    "\n",
    "# Only the TensorFlow backend supports string inputs.\n",
    "os.environ[\"KERAS_BACKEND\"] = \"tensorflow\"\n",
    "\n",
    "import numpy as np\n",
    "import pandas as pd\n",
    "import tensorflow as tf\n",
    "import keras\n",
    "from keras import layers\n",
    "\n",
    "sys.path.append(os.path.abspath(\"../../src/\"))\n",
    "import mapping_fits_objects as mfo\n",
    "from data_acquisition_understanding.dnn_datasets_preparation import read_and_concat_catalogs, clean_and_split_catalog"
   ]
  },
  {
   "cell_type": "markdown",
   "metadata": {},
   "source": [
    "## Loading and preparing the datasets"
   ]
  },
  {
   "cell_type": "markdown",
   "metadata": {},
   "source": [
    "Reading and merging catalog and mapping files"
   ]
  },
  {
   "cell_type": "code",
   "execution_count": 2,
   "metadata": {},
   "outputs": [],
   "source": [
    "columns = [\"OBJECT_ID\", \"FITS_ID\", \"CCD_ID\", \"ISO0\", \"BACKGROUND\", \"ELLIPTICITY\", \"ELONGATION\", \"CLASS_STAR\", \"FLAGS\", \"EXPTIME\"]\n",
    "data_path = \"../../data/\"\n",
    "proc_path = os.path.join(data_path, \"processed\")\n",
    "fm_path = os.path.join(data_path, \"for_modeling\")\n"
   ]
  },
  {
   "cell_type": "code",
   "execution_count": 3,
   "metadata": {},
   "outputs": [],
   "source": [
    "catalog_paths = [\n",
    "        os.path.join(fm_path, \"objects_catalog_cadc2.parquet.gz\"),\n",
    "        os.path.join(fm_path, \"objects_catalog_ngc0869.parquet.gz\"),\n",
    "        os.path.join(fm_path, \"objects_catalog_ngc0896.parquet.gz\"),\n",
    "        os.path.join(fm_path, \"objects_catalog_ngc7000.parquet.gz\")\n",
    "    ]\n",
    "\n",
    "catalog = read_and_concat_catalogs(catalog_paths) "
   ]
  },
  {
   "cell_type": "code",
   "execution_count": 4,
   "metadata": {},
   "outputs": [],
   "source": [
    "catalog_cleaned = catalog.dropna(subset=[\"gt_label1\"])\n",
    "catalog_cleaned = catalog_cleaned.drop(columns=[\"gt_label2\", \"OBJECT_ID\"])"
   ]
  },
  {
   "cell_type": "code",
   "execution_count": 6,
   "metadata": {},
   "outputs": [
    {
     "name": "stdout",
     "output_type": "stream",
     "text": [
      "Class weights:\n",
      "{'GOOD': 0.5751560667765035, 'BT': 0.206570084977698, 'RBT': 0.1958864105401491, 'B_SEEING': 0.01747255955803839, 'BGP': 0.004914878147610943}\n",
      "-----------------\n"
     ]
    },
    {
     "name": "stderr",
     "output_type": "stream",
     "text": [
      "/home/mike/shared-drives/C:/Users/FournigaultM/git/computational_astro/astro_iqa/src/data_acquisition_understanding/dnn_datasets_preparation.py:72: SettingWithCopyWarning: \n",
      "A value is trying to be set on a copy of a slice from a DataFrame.\n",
      "Try using .loc[row_indexer,col_indexer] = value instead\n",
      "\n",
      "See the caveats in the documentation: https://pandas.pydata.org/pandas-docs/stable/user_guide/indexing.html#returning-a-view-versus-a-copy\n",
      "  train_df[col] = train_df[col].astype(str)\n",
      "/home/mike/shared-drives/C:/Users/FournigaultM/git/computational_astro/astro_iqa/src/data_acquisition_understanding/dnn_datasets_preparation.py:74: SettingWithCopyWarning: \n",
      "A value is trying to be set on a copy of a slice from a DataFrame.\n",
      "Try using .loc[row_indexer,col_indexer] = value instead\n",
      "\n",
      "See the caveats in the documentation: https://pandas.pydata.org/pandas-docs/stable/user_guide/indexing.html#returning-a-view-versus-a-copy\n",
      "  val_df[col] = val_df[col].astype(str)\n",
      "/home/mike/shared-drives/C:/Users/FournigaultM/git/computational_astro/astro_iqa/src/data_acquisition_understanding/dnn_datasets_preparation.py:76: SettingWithCopyWarning: \n",
      "A value is trying to be set on a copy of a slice from a DataFrame.\n",
      "Try using .loc[row_indexer,col_indexer] = value instead\n",
      "\n",
      "See the caveats in the documentation: https://pandas.pydata.org/pandas-docs/stable/user_guide/indexing.html#returning-a-view-versus-a-copy\n",
      "  test_df[col] = test_df[col].astype(str)\n"
     ]
    }
   ],
   "source": [
    "train_df, val_df, test_df, class_weights = clean_and_split_catalog(\n",
    "    catalog,\n",
    "    \"gt_label1\",\n",
    "    [\"gt_label2\", \"OBJECT_ID\"],\n",
    "    0.6,\n",
    "    0.5,\n",
    "    42\n",
    ")"
   ]
  },
  {
   "cell_type": "code",
   "execution_count": null,
   "metadata": {},
   "outputs": [],
   "source": [
    "# verifying all the classes are present in the datasets\n",
    "class_weights_train = train_df[\"gt_label1\"].value_counts(normalize=True)\n",
    "class_weights_train = class_weights_train.to_dict()\n",
    "print(\"Class weights train:\")\n",
    "print(class_weights_train)\n",
    "print(\"-----------------\")\n",
    "class_weights_val = val_df[\"gt_label1\"].value_counts(normalize=True)\n",
    "class_weights_val = class_weights_val.to_dict()\n",
    "print(\"Class weights val:\")\n",
    "print(class_weights_val)\n",
    "print(\"-----------------\")\n",
    "class_weights_test = test_df[\"gt_label1\"].value_counts(normalize=True)\n",
    "class_weights_test = class_weights_test.to_dict()\n",
    "print(\"Class weights test:\")\n",
    "print(class_weights_test)\n",
    "print(\"-----------------\")"
   ]
  }
 ],
 "metadata": {
  "accelerator": "GPU",
  "colab": {
   "name": "classification_with_grn_and_vsn",
   "provenance": [],
   "toc_visible": true
  },
  "kernelspec": {
   "display_name": "astro_quality",
   "language": "python",
   "name": "python3"
  },
  "language_info": {
   "codemirror_mode": {
    "name": "ipython",
    "version": 3
   },
   "file_extension": ".py",
   "mimetype": "text/x-python",
   "name": "python",
   "nbconvert_exporter": "python",
   "pygments_lexer": "ipython3",
   "version": "3.9.7"
  }
 },
 "nbformat": 4,
 "nbformat_minor": 0
}
