{
 "cells": [
  {
   "cell_type": "code",
   "execution_count": 2,
   "metadata": {
    "id": "9stLJR7J1Fhl"
   },
   "outputs": [],
   "source": [
    "import os\n",
    "import sys\n",
    "\n",
    "# Only the TensorFlow backend supports string inputs.\n",
    "os.environ[\"KERAS_BACKEND\"] = \"tensorflow\"\n",
    "\n",
    "sys.path.append(os.path.abspath(\"../../src/\"))\n",
    "from data_acquisition_understanding.dnn_datasets_preparation import read_and_concat_catalogs, clean_and_split_catalog"
   ]
  },
  {
   "cell_type": "markdown",
   "metadata": {},
   "source": [
    "## Loading and preparing the datasets"
   ]
  },
  {
   "cell_type": "markdown",
   "metadata": {},
   "source": [
    "Reading and merging catalog and mapping files"
   ]
  },
  {
   "cell_type": "code",
   "execution_count": 3,
   "metadata": {},
   "outputs": [],
   "source": [
    "columns = [\"OBJECT_ID\", \"FITS_ID\", \"CCD_ID\", \"ISO0\", \"BACKGROUND\", \"ELLIPTICITY\", \"ELONGATION\", \"CLASS_STAR\", \"FLAGS\", \"EXPTIME\"]\n",
    "data_path = \"../../data/\"\n",
    "proc_path = os.path.join(data_path, \"processed\")\n",
    "fm_path = os.path.join(data_path, \"for_modeling\")\n"
   ]
  },
  {
   "cell_type": "code",
   "execution_count": 4,
   "metadata": {},
   "outputs": [],
   "source": [
    "catalog_paths = [\n",
    "        os.path.join(fm_path, \"objects_catalog_cadc2.parquet.gz\"),\n",
    "        os.path.join(fm_path, \"objects_catalog_ngc0869.parquet.gz\"),\n",
    "        os.path.join(fm_path, \"objects_catalog_ngc0896.parquet.gz\"),\n",
    "        os.path.join(fm_path, \"objects_catalog_ngc7000.parquet.gz\")\n",
    "    ]\n",
    "\n",
    "catalog = read_and_concat_catalogs(catalog_paths) "
   ]
  },
  {
   "cell_type": "code",
   "execution_count": 8,
   "metadata": {},
   "outputs": [
    {
     "name": "stdout",
     "output_type": "stream",
     "text": [
      "<class 'pandas.core.frame.DataFrame'>\n",
      "RangeIndex: 2118974 entries, 0 to 2118973\n",
      "Data columns (total 12 columns):\n",
      " #   Column       Dtype  \n",
      "---  ------       -----  \n",
      " 0   OBJECT_ID    object \n",
      " 1   FITS_ID      object \n",
      " 2   CCD_ID       uint8  \n",
      " 3   ISO0         float32\n",
      " 4   BACKGROUND   float32\n",
      " 5   ELLIPTICITY  float32\n",
      " 6   ELONGATION   float32\n",
      " 7   CLASS_STAR   float32\n",
      " 8   FLAGS        int16  \n",
      " 9   EXPTIME      float32\n",
      " 10  gt_label1    object \n",
      " 11  gt_label2    object \n",
      "dtypes: float32(6), int16(1), object(4), uint8(1)\n",
      "memory usage: 119.2+ MB\n",
      "None\n",
      "             CCD_ID          ISO0    BACKGROUND   ELLIPTICITY    ELONGATION  \\\n",
      "count  2.118974e+06  2.118974e+06  2.118974e+06  2.118974e+06  2.118974e+06   \n",
      "mean   1.899900e+01  1.737785e+00  1.851034e+00  4.418779e-01  2.837024e+00   \n",
      "std    1.183598e+01  5.842272e-01  6.844337e-01  2.466583e-01  3.821320e+01   \n",
      "min    1.000000e+00  4.771213e-01 -2.000000e+00  1.000000e-05  1.000000e+00   \n",
      "25%    9.000000e+00  1.301030e+00  2.000000e+00  2.198872e-01  1.281866e+00   \n",
      "50%    1.900000e+01  1.740363e+00  2.000000e+00  4.373640e-01  1.777348e+00   \n",
      "75%    2.800000e+01  2.123852e+00  2.000000e+00  6.532798e-01  2.884170e+00   \n",
      "max    8.000000e+01  4.000000e+00  2.000000e+00  9.999720e-01  3.572034e+04   \n",
      "\n",
      "         CLASS_STAR         FLAGS       EXPTIME  \n",
      "count  2.118974e+06  2.118974e+06  2.118974e+06  \n",
      "mean   6.645072e-02  1.245980e+00  1.171563e+00  \n",
      "std    2.172995e-01  1.033062e+00  5.082951e-01  \n",
      "min    2.957699e-05  0.000000e+00 -4.378855e+00  \n",
      "25%    3.192387e-04  0.000000e+00  1.041796e+00  \n",
      "50%    3.205753e-04  2.000000e+00  1.477121e+00  \n",
      "75%    1.091200e-03  2.000000e+00  1.477121e+00  \n",
      "max    9.999097e-01  6.800000e+01  1.477121e+00  \n"
     ]
    }
   ],
   "source": [
    "print(catalog.info())\n",
    "print(catalog.describe())"
   ]
  },
  {
   "cell_type": "code",
   "execution_count": 10,
   "metadata": {},
   "outputs": [
    {
     "name": "stdout",
     "output_type": "stream",
     "text": [
      "OBJECT_ID OBJECT_ID\n",
      "a297516c3e50409b977becdf59005576    1\n",
      "057970e69b654b1ea6066ff6e2ceb89a    1\n",
      "fe42a43758b8437eb89fb3f4c384f708    1\n",
      "e0ff049eb93645f68b640c94e865a079    1\n",
      "fdc5c1ff1e9048b09c97c55942e9a446    1\n",
      "                                   ..\n",
      "471e392ecdd341dbbe5fdffbc3f2aa55    1\n",
      "6d50600e12534934843c8b43f27cba4c    1\n",
      "353bbb9417e94c6f92e4df8bc88d23f4    1\n",
      "473fd6881a2d4734809e3b429f845742    1\n",
      "a882a1bbaeb448a5a9a8accefc2b18b3    1\n",
      "Name: count, Length: 2118974, dtype: int64\n",
      "FITS_ID FITS_ID\n",
      "1625632p                    215728\n",
      "1625633p                    210245\n",
      "1635753p                    180874\n",
      "2120820p                    120101\n",
      "1110042p                    119992\n",
      "                             ...  \n",
      "ngc7000_080624_raw_00085        28\n",
      "ngc7000_080624_raw_00081        25\n",
      "ngc0869_030524_raw_00016        25\n",
      "ngc7000_080624_raw_00076        25\n",
      "ngc0869_030524_raw_00014        22\n",
      "Name: count, Length: 200, dtype: int64\n",
      "CCD_ID CCD_ID\n",
      "1     74484\n",
      "2     64062\n",
      "8     63655\n",
      "20    61925\n",
      "9     61533\n",
      "31    61134\n",
      "23    60594\n",
      "7     60290\n",
      "28    59789\n",
      "13    59775\n",
      "34    59416\n",
      "32    59357\n",
      "16    58306\n",
      "11    58183\n",
      "12    57893\n",
      "21    57823\n",
      "10    57786\n",
      "4     57604\n",
      "24    57442\n",
      "3     57093\n",
      "5     56942\n",
      "33    56848\n",
      "30    55543\n",
      "15    55521\n",
      "18    55519\n",
      "25    54653\n",
      "26    53884\n",
      "22    53851\n",
      "19    53807\n",
      "6     53550\n",
      "17    53251\n",
      "27    53058\n",
      "35    53003\n",
      "29    52414\n",
      "36    48512\n",
      "14    48293\n",
      "40     8634\n",
      "38     5154\n",
      "37     3718\n",
      "39     3522\n",
      "60     2463\n",
      "56     2447\n",
      "68     2203\n",
      "74     2198\n",
      "70     2130\n",
      "62     2005\n",
      "54     1981\n",
      "64     1822\n",
      "58     1751\n",
      "52     1702\n",
      "78     1682\n",
      "42     1581\n",
      "48     1539\n",
      "66     1421\n",
      "80     1387\n",
      "50     1309\n",
      "72      875\n",
      "76      245\n",
      "46      219\n",
      "44      193\n",
      "Name: count, dtype: int64\n",
      "ISO0 ISO0\n",
      "0.698970    69782\n",
      "0.778151    45252\n",
      "0.845098    42529\n",
      "0.903090    39746\n",
      "0.954243    37131\n",
      "            ...  \n",
      "3.768268        1\n",
      "3.803662        1\n",
      "3.724358        1\n",
      "3.787461        1\n",
      "3.969509        1\n",
      "Name: count, Length: 7180, dtype: int64\n",
      "BACKGROUND BACKGROUND\n",
      " 2.000000    2002298\n",
      "-2.000000      26565\n",
      "-1.112912         19\n",
      "-0.383543         17\n",
      "-1.174505         17\n",
      "              ...   \n",
      "-0.586314          1\n",
      "-0.429187          1\n",
      "-0.029905          1\n",
      "-0.312797          1\n",
      " 0.470434          1\n",
      "Name: count, Length: 81940, dtype: int64\n",
      "ELLIPTICITY ELLIPTICITY\n",
      "0.060061    5\n",
      "0.799308    5\n",
      "0.272429    5\n",
      "0.210806    5\n",
      "0.547684    5\n",
      "           ..\n",
      "0.369034    1\n",
      "0.821501    1\n",
      "0.869140    1\n",
      "0.883221    1\n",
      "0.662198    1\n",
      "Name: count, Length: 1961773, dtype: int64\n",
      "ELONGATION ELONGATION\n",
      "1.063898    6\n",
      "1.205111    6\n",
      "1.182537    5\n",
      "1.089927    5\n",
      "1.195940    5\n",
      "           ..\n",
      "4.212276    1\n",
      "4.501639    1\n",
      "2.343248    1\n",
      "4.213364    1\n",
      "3.003952    1\n",
      "Name: count, Length: 1989065, dtype: int64\n",
      "CLASS_STAR CLASS_STAR\n",
      "0.000319    311\n",
      "0.000319    311\n",
      "0.000319    310\n",
      "0.000319    302\n",
      "0.000319    299\n",
      "           ... \n",
      "0.000325      1\n",
      "0.035059      1\n",
      "0.061126      1\n",
      "0.011763      1\n",
      "0.000415      1\n",
      "Name: count, Length: 1317984, dtype: int64\n",
      "FLAGS FLAGS\n",
      "2     1302323\n",
      "0      812304\n",
      "10       2270\n",
      "6         939\n",
      "4         598\n",
      "8         531\n",
      "64          8\n",
      "68          1\n",
      "Name: count, dtype: int64\n",
      "EXPTIME EXPTIME\n",
      " 1.477121    1096204\n",
      "-1.184943         19\n",
      " 1.048101         18\n",
      " 1.307761         18\n",
      " 1.293632         17\n",
      "              ...   \n",
      " 0.391912          1\n",
      " 0.392246          1\n",
      " 0.397651          1\n",
      " 0.394912          1\n",
      " 0.965573          1\n",
      "Name: count, Length: 795504, dtype: int64\n",
      "gt_label1 gt_label1\n",
      "GOOD        1097212\n",
      "BT           394069\n",
      "RBT          373688\n",
      "B_SEEING      33332\n",
      "BGP            9376\n",
      "Name: count, dtype: int64\n",
      "gt_label2 gt_label2\n",
      "B_SEEING    125228\n",
      "BT           25565\n",
      "Name: count, dtype: int64\n"
     ]
    }
   ],
   "source": [
    "for col in catalog.columns:\n",
    "    print(col, catalog[col].value_counts())"
   ]
  },
  {
   "cell_type": "code",
   "execution_count": 13,
   "metadata": {},
   "outputs": [
    {
     "name": "stdout",
     "output_type": "stream",
     "text": [
      "FITS_ID\n",
      "1625589p    107977\n",
      "1625588p    103320\n",
      "Name: count, dtype: int64\n"
     ]
    }
   ],
   "source": [
    "# looking for images that would not be annotated\n",
    "print(catalog[catalog[\"gt_label1\"].isna()][\"FITS_ID\"].value_counts())"
   ]
  },
  {
   "cell_type": "code",
   "execution_count": 14,
   "metadata": {},
   "outputs": [],
   "source": [
    "# correcting the labels\n",
    "catalog.loc[catalog[\"FITS_ID\"] == \"1625589p\", \"gt_label1\"] = \"GOOD\"\n",
    "catalog.loc[catalog[\"FITS_ID\"] == \"1625588p\", \"gt_label1\"] = \"B_SEEING\""
   ]
  },
  {
   "cell_type": "code",
   "execution_count": 15,
   "metadata": {},
   "outputs": [
    {
     "name": "stdout",
     "output_type": "stream",
     "text": [
      "Series([], Name: count, dtype: int64)\n"
     ]
    }
   ],
   "source": [
    "# Checking the correction\n",
    "print(catalog[catalog[\"gt_label1\"].isna()][\"FITS_ID\"].value_counts())"
   ]
  },
  {
   "cell_type": "code",
   "execution_count": 16,
   "metadata": {},
   "outputs": [],
   "source": [
    "catalog_cleaned = catalog.dropna(subset=[\"gt_label1\"])\n",
    "catalog_cleaned = catalog_cleaned.drop(columns=[\"gt_label2\", \"OBJECT_ID\"])"
   ]
  },
  {
   "cell_type": "code",
   "execution_count": 6,
   "metadata": {},
   "outputs": [
    {
     "name": "stdout",
     "output_type": "stream",
     "text": [
      "Class weights:\n",
      "{'GOOD': 0.5751560667765035, 'BT': 0.206570084977698, 'RBT': 0.1958864105401491, 'B_SEEING': 0.01747255955803839, 'BGP': 0.004914878147610943}\n",
      "-----------------\n"
     ]
    },
    {
     "name": "stderr",
     "output_type": "stream",
     "text": [
      "/home/mike/shared-drives/C:/Users/FournigaultM/git/computational_astro/astro_iqa/src/data_acquisition_understanding/dnn_datasets_preparation.py:72: SettingWithCopyWarning: \n",
      "A value is trying to be set on a copy of a slice from a DataFrame.\n",
      "Try using .loc[row_indexer,col_indexer] = value instead\n",
      "\n",
      "See the caveats in the documentation: https://pandas.pydata.org/pandas-docs/stable/user_guide/indexing.html#returning-a-view-versus-a-copy\n",
      "  train_df[col] = train_df[col].astype(str)\n",
      "/home/mike/shared-drives/C:/Users/FournigaultM/git/computational_astro/astro_iqa/src/data_acquisition_understanding/dnn_datasets_preparation.py:74: SettingWithCopyWarning: \n",
      "A value is trying to be set on a copy of a slice from a DataFrame.\n",
      "Try using .loc[row_indexer,col_indexer] = value instead\n",
      "\n",
      "See the caveats in the documentation: https://pandas.pydata.org/pandas-docs/stable/user_guide/indexing.html#returning-a-view-versus-a-copy\n",
      "  val_df[col] = val_df[col].astype(str)\n",
      "/home/mike/shared-drives/C:/Users/FournigaultM/git/computational_astro/astro_iqa/src/data_acquisition_understanding/dnn_datasets_preparation.py:76: SettingWithCopyWarning: \n",
      "A value is trying to be set on a copy of a slice from a DataFrame.\n",
      "Try using .loc[row_indexer,col_indexer] = value instead\n",
      "\n",
      "See the caveats in the documentation: https://pandas.pydata.org/pandas-docs/stable/user_guide/indexing.html#returning-a-view-versus-a-copy\n",
      "  test_df[col] = test_df[col].astype(str)\n"
     ]
    }
   ],
   "source": [
    "train_df, val_df, test_df, class_weights = clean_and_split_catalog(\n",
    "    catalog,\n",
    "    \"gt_label1\",\n",
    "    [\"gt_label2\", \"OBJECT_ID\"],\n",
    "    0.6,\n",
    "    0.5,\n",
    "    42\n",
    ")"
   ]
  },
  {
   "cell_type": "code",
   "execution_count": 7,
   "metadata": {},
   "outputs": [
    {
     "name": "stdout",
     "output_type": "stream",
     "text": [
      "Class weights train:\n",
      "{'GOOD': 0.5747855150868505, 'BT': 0.20662847004545526, 'RBT': 0.1960496008912933, 'B_SEEING': 0.017632903810523338, 'BGP': 0.0049035101658776465}\n",
      "-----------------\n",
      "Class weights val:\n",
      "{'GOOD': 0.5757791204380233, 'BT': 0.206528896782775, 'RBT': 0.1952844816051757, 'B_SEEING': 0.017396574205007256, 'BGP': 0.005010926969018829}\n",
      "-----------------\n",
      "Class weights test:\n",
      "{'GOOD': 0.5756463662882206, 'BT': 0.20643585654026148, 'RBT': 0.1959979853518289, 'B_SEEING': 0.017066798178422278, 'BGP': 0.00485299364126671}\n",
      "-----------------\n"
     ]
    }
   ],
   "source": [
    "# verifying all the classes are present in the datasets\n",
    "class_weights_train = train_df[\"gt_label1\"].value_counts(normalize=True)\n",
    "class_weights_train = class_weights_train.to_dict()\n",
    "print(\"Class weights train:\")\n",
    "print(class_weights_train)\n",
    "print(\"-----------------\")\n",
    "class_weights_val = val_df[\"gt_label1\"].value_counts(normalize=True)\n",
    "class_weights_val = class_weights_val.to_dict()\n",
    "print(\"Class weights val:\")\n",
    "print(class_weights_val)\n",
    "print(\"-----------------\")\n",
    "class_weights_test = test_df[\"gt_label1\"].value_counts(normalize=True)\n",
    "class_weights_test = class_weights_test.to_dict()\n",
    "print(\"Class weights test:\")\n",
    "print(class_weights_test)\n",
    "print(\"-----------------\")"
   ]
  },
  {
   "cell_type": "code",
   "execution_count": null,
   "metadata": {},
   "outputs": [
    {
     "ename": "IndentationError",
     "evalue": "unexpected indent (3032459191.py, line 4)",
     "output_type": "error",
     "traceback": [
      "\u001b[0;36m  Cell \u001b[0;32mIn[8], line 4\u001b[0;36m\u001b[0m\n\u001b[0;31m    for df, name in [(train_df, \"Training\"), (val_df, \"Validation\"), (test_df, \"Testing\")]:\u001b[0m\n\u001b[0m    ^\u001b[0m\n\u001b[0;31mIndentationError\u001b[0m\u001b[0;31m:\u001b[0m unexpected indent\n"
     ]
    }
   ],
   "source": [
    "import pandas as pd\n",
    "\n",
    "# assuming your datasets are DataFrames named training_df, validation_df, testing_df\n",
    "for df, name in [(train_df, \"Training\"), (val_df, \"Validation\"), (test_df, \"Testing\")]:\n",
    "    for feature in [\"FITS_ID\", \"CCD_ID\", \"FLAGS\"]:\n",
    "        unique_values = df[feature].nunique()\n",
    "        print(f\"{name} - {feature}: {unique_values} unique values\")\n",
    "\n",
    "        # Optionally, to view the unique values:\n",
    "        # print(f\"Unique values: {df[feature].unique()}\")"
   ]
  }
 ],
 "metadata": {
  "accelerator": "GPU",
  "colab": {
   "name": "classification_with_grn_and_vsn",
   "provenance": [],
   "toc_visible": true
  },
  "kernelspec": {
   "display_name": "tensorflow2",
   "language": "python",
   "name": "python3"
  },
  "language_info": {
   "codemirror_mode": {
    "name": "ipython",
    "version": 3
   },
   "file_extension": ".py",
   "mimetype": "text/x-python",
   "name": "python",
   "nbconvert_exporter": "python",
   "pygments_lexer": "ipython3",
   "version": "3.10.16"
  }
 },
 "nbformat": 4,
 "nbformat_minor": 0
}
