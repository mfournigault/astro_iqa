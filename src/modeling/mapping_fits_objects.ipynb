{
 "cells": [
  {
   "cell_type": "code",
   "execution_count": 1,
   "metadata": {},
   "outputs": [],
   "source": [
    "import os\n",
    "import sys\n",
    "IN_COLAB = 'google.colab' in sys.modules"
   ]
  },
  {
   "cell_type": "markdown",
   "metadata": {},
   "source": [
    "Testing the functions of the module mapping_fits_objects.py instead."
   ]
  },
  {
   "cell_type": "code",
   "execution_count": 2,
   "metadata": {},
   "outputs": [
    {
     "name": "stdout",
     "output_type": "stream",
     "text": [
      "['data_acquisition_understanding', 'deployment', 'modeling', 'Readme.md']\n"
     ]
    }
   ],
   "source": [
    "if IN_COLAB:\n",
    "    root_path = \"/content/\"+iqa_root\n",
    "else:\n",
    "    root_path = \"/home/mike/git/computational_astro/astro_iqa\"\n",
    "src_path = os.path.join(root_path, \"src\")\n",
    "\n",
    "print(os.listdir(src_path))\n",
    "sys.path.append(os.path.abspath(src_path))\n",
    "\n",
    "from modeling.mapping_fits_objects import *\n",
    "\n",
    "data_path = os.path.join(root_path, \"data/for_modeling\")\n",
    "catalog_name = \"objects_catalog_cadc2.parquet.gz\""
   ]
  },
  {
   "cell_type": "code",
   "execution_count": 3,
   "metadata": {},
   "outputs": [],
   "source": [
    "catalog_file = os.path.join(data_path, catalog_name)\n",
    "\n",
    "columns = [\"OBJECT_ID\", \"FITS_ID\", \"CCD_ID\", \"ISO0\", \"BACKGROUND\", \"ELLIPTICITY\", \"ELONGATION\", \"CLASS_STAR\", \"FLAGS\", \"EXPTIME\"]\n",
    "catalog_df = read_catalog(catalog_file, columns)\n"
   ]
  },
  {
   "cell_type": "code",
   "execution_count": 4,
   "metadata": {},
   "outputs": [],
   "source": [
    "annotations_file = os.path.join(data_path, \"map_images_labels_cadc2.json\")\n",
    "annotations = read_annotations(annotations_file)\n",
    "\n"
   ]
  },
  {
   "cell_type": "code",
   "execution_count": 5,
   "metadata": {},
   "outputs": [
    {
     "name": "stdout",
     "output_type": "stream",
     "text": [
      "0              GOOD\n",
      "1               BGP\n",
      "2              GOOD\n",
      "3              GOOD\n",
      "4              GOOD\n",
      "5              GOOD\n",
      "6                BT\n",
      "7                BT\n",
      "8                BT\n",
      "9              GOOD\n",
      "10             GOOD\n",
      "11             GOOD\n",
      "12         B_SEEING\n",
      "13             GOOD\n",
      "14             GOOD\n",
      "15             GOOD\n",
      "16             GOOD\n",
      "17              RBT\n",
      "18         B_SEEING\n",
      "19              RBT\n",
      "20              RBT\n",
      "21               BT\n",
      "22    BGP, B_SEEING\n",
      "23     B_SEEING, BT\n",
      "24     BT, B_SEEING\n",
      "Name: Label, dtype: object\n",
      "0         GOOD\n",
      "1          BGP\n",
      "2         GOOD\n",
      "3         GOOD\n",
      "4         GOOD\n",
      "5         GOOD\n",
      "6           BT\n",
      "7           BT\n",
      "8           BT\n",
      "9         GOOD\n",
      "10        GOOD\n",
      "11        GOOD\n",
      "12    B_SEEING\n",
      "13        GOOD\n",
      "14        GOOD\n",
      "15        GOOD\n",
      "16        GOOD\n",
      "17         RBT\n",
      "18    B_SEEING\n",
      "19         RBT\n",
      "20         RBT\n",
      "21          BT\n",
      "22         BGP\n",
      "23    B_SEEING\n",
      "24          BT\n",
      "Name: Label1, dtype: object\n"
     ]
    }
   ],
   "source": [
    "annotations_df = transform_annotations_to_df(annotations)\n",
    "merged_df = merge_annotations_with_catalog(catalog_df, annotations_df)"
   ]
  },
  {
   "cell_type": "code",
   "execution_count": null,
   "metadata": {},
   "outputs": [],
   "source": [
    "output_file = os.path.join(data_path, \"objects_catalog_cadc3.parquet.gz\")\n",
    "save_to_parquet(merged_df, output_file)"
   ]
  }
 ],
 "metadata": {
  "kernelspec": {
   "display_name": "astro_quality",
   "language": "python",
   "name": "python3"
  },
  "language_info": {
   "codemirror_mode": {
    "name": "ipython",
    "version": 3
   },
   "file_extension": ".py",
   "mimetype": "text/x-python",
   "name": "python",
   "nbconvert_exporter": "python",
   "pygments_lexer": "ipython3",
   "version": "3.9.7"
  }
 },
 "nbformat": 4,
 "nbformat_minor": 2
}
