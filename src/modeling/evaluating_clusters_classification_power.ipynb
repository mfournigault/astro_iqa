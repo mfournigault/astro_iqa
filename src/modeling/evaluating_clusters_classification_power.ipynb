{
 "cells": [
  {
   "cell_type": "markdown",
   "metadata": {},
   "source": [
    "# Evaluating the power of classification directly from the SOM clustering"
   ]
  },
  {
   "cell_type": "code",
   "execution_count": 1,
   "metadata": {},
   "outputs": [],
   "source": [
    "import os\n",
    "import json\n",
    "import pandas as pd"
   ]
  },
  {
   "cell_type": "code",
   "execution_count": 10,
   "metadata": {},
   "outputs": [],
   "source": [
    "filename_clusters = \"som_iqa_loaded_results_5_clusters.parquet\"\n",
    "filename_mapping = \"fits_objects_mapping.parquet.gz\"\n",
    "filename_labels = \"map_images_labels.json\"\n",
    "\n",
    "data_path = \"/home/mike/git/computational_astro/astro_iqa/data/\"\n",
    "file_path = os.path.join(data_path, \"for_modeling\")"
   ]
  },
  {
   "cell_type": "code",
   "execution_count": 14,
   "metadata": {},
   "outputs": [
    {
     "name": "stdout",
     "output_type": "stream",
     "text": [
      "Reading clusters from /home/mike/git/computational_astro/astro_iqa/data/for_modeling/som_iqa_loaded_results_5_clusters.parquet\n",
      "Reading ground truth labels from /home/mike/git/computational_astro/astro_iqa/data/for_modeling/map_images_labels.json\n"
     ]
    }
   ],
   "source": [
    "# Reading clusters from the parquet file\n",
    "print(f\"Reading clusters from {os.path.join(file_path, filename_clusters)}\")\n",
    "clusters = pd.read_parquet(os.path.join(file_path, \"Results\", filename_clusters))\n",
    "\n",
    "# Reading fits / ground truth labels\n",
    "print(f\"Reading ground truth labels from {os.path.join(file_path, filename_labels)}\")\n",
    "with open(os.path.join(file_path, filename_labels), 'r') as f:\n",
    "    labels_gt = json.load(f)\n",
    "\n"
   ]
  },
  {
   "cell_type": "code",
   "execution_count": 17,
   "metadata": {},
   "outputs": [],
   "source": [
    "# Reading fits / object mapping\n",
    "mapping_fits_obj = pd.read_parquet(os.path.join(file_path, filename_mapping), engine='auto')"
   ]
  },
  {
   "cell_type": "code",
   "execution_count": 23,
   "metadata": {},
   "outputs": [],
   "source": [
    "# Transform into a dictionary in order to get columns\n",
    "annotations_dict = {\n",
    "    \"Image_id\": list(labels_gt[\"annotations\"].keys()),\n",
    "    \"Label\": list(labels_gt[\"annotations\"].values())\n",
    "}\n",
    "\n",
    "annotations = pd.DataFrame(annotations_dict)\n",
    "\n",
    "# A few corrections\n",
    "# split multiple labels into separate columns\n",
    "annotations[['Label1', 'Label2']] = annotations['Label'].str.split(', ', expand=True)\n",
    "# Delete the original column\n",
    "annotations = annotations.drop(columns=['Label'])\n",
    "# Add a p to the Image_id column\n",
    "annotations['Image_id'] = annotations['Image_id'].astype(str) + 'p'\n"
   ]
  },
  {
   "cell_type": "code",
   "execution_count": 27,
   "metadata": {},
   "outputs": [],
   "source": [
    "# We add the ground truth labels to the mapping\n",
    "def add_ground_truth_labels(row, annotations):\n",
    "    image_id = row[\"FITS_ID\"]\n",
    "    label1 = annotations.loc[annotations[\"Image_id\"] == image_id, \"Label1\"].values[0]\n",
    "    label2 = annotations.loc[annotations[\"Image_id\"] == image_id, \"Label2\"].values[0]\n",
    "    return [label1, label2]\n",
    "\n",
    "mapping_fits_obj[[\"gt_label1\", \"gt_label2\"]] = mapping_fits_obj.apply(lambda row: add_ground_truth_labels(row, annotations), result_type=\"expand\", axis=1) \n"
   ]
  },
  {
   "cell_type": "code",
   "execution_count": null,
   "metadata": {},
   "outputs": [],
   "source": [
    "mapping_fits_obj.to_parquet(os.path.join(file_path, filename_mapping), compression=\"gzip\", engine=\"auto\")"
   ]
  }
 ],
 "metadata": {
  "kernelspec": {
   "display_name": "astro_quality",
   "language": "python",
   "name": "python3"
  },
  "language_info": {
   "codemirror_mode": {
    "name": "ipython",
    "version": 3
   },
   "file_extension": ".py",
   "mimetype": "text/x-python",
   "name": "python",
   "nbconvert_exporter": "python",
   "pygments_lexer": "ipython3",
   "version": "3.11.5"
  }
 },
 "nbformat": 4,
 "nbformat_minor": 2
}
