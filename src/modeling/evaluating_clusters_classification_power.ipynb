{
 "cells": [
  {
   "cell_type": "markdown",
   "metadata": {},
   "source": [
    "# Evaluating the power of classification directly from the SOM clustering"
   ]
  },
  {
   "cell_type": "code",
   "execution_count": 4,
   "metadata": {},
   "outputs": [],
   "source": [
    "import os\n",
    "import json\n",
    "import pandas as pd\n",
    "\n",
    "from sklearn.preprocessing import LabelEncoder"
   ]
  },
  {
   "cell_type": "code",
   "execution_count": 2,
   "metadata": {},
   "outputs": [],
   "source": [
    "filename_clusters = \"som_iqa_loaded_results_5_clusters.parquet\"\n",
    "filename_mapping = \"fits_objects_mapping.parquet.gz\"\n",
    "filename_labels = \"map_images_labels.json\"\n",
    "\n",
    "data_path = \"/home/mike/git/computational_astro/astro_iqa/data/\"\n",
    "file_path = os.path.join(data_path, \"for_modeling\")"
   ]
  },
  {
   "cell_type": "code",
   "execution_count": 3,
   "metadata": {},
   "outputs": [
    {
     "name": "stdout",
     "output_type": "stream",
     "text": [
      "Reading clusters from /home/mike/git/computational_astro/astro_iqa/data/for_modeling/som_iqa_loaded_results_5_clusters.parquet\n",
      "Reading ground truth labels from /home/mike/git/computational_astro/astro_iqa/data/for_modeling/map_images_labels.json\n",
      "                                  BMU     Udist  Ret_x  Ret_y  Cub_x  Cub_y  \\\n",
      "057970e69b654b1ea6066ff6e2ceb89a  240  0.041096     14     15      7    -22   \n",
      "fe42a43758b8437eb89fb3f4c384f708  240  0.041096     14     15      7    -22   \n",
      "e0ff049eb93645f68b640c94e865a079   15  0.323520     14      0     14    -14   \n",
      "fdc5c1ff1e9048b09c97c55942e9a446   15  0.323520     14      0     14    -14   \n",
      "a360c4f1d508437b9ae022fb1334d1cb  240  0.041096     14     15      7    -22   \n",
      "...                               ...       ...    ...    ...    ...    ...   \n",
      "a441caa248d948efae5087b15d8fa1d4   46  0.360268      0      3     -1     -2   \n",
      "ba8fcf38be464484ba3b736bbcfa645a  156  0.183080      5     10      0    -10   \n",
      "0f5406ec5eb84d8a9516d799e848c522  186  0.295357      5     12     -1    -11   \n",
      "8184b989167c4cdf8077f53aca2a66ef  232  0.948399      6     15     -1    -14   \n",
      "be46d31b7ac54a6c966ca3c5700d4bdd   46  0.360268      0      3     -1     -2   \n",
      "\n",
      "                                  Cub_z    B_ISO0  B_BACKGROUND  \\\n",
      "057970e69b654b1ea6066ff6e2ceb89a     15  2.566675      1.999950   \n",
      "fe42a43758b8437eb89fb3f4c384f708     15  2.566675      1.999950   \n",
      "e0ff049eb93645f68b640c94e865a079      0  3.175626      1.999171   \n",
      "fdc5c1ff1e9048b09c97c55942e9a446      0  3.175626      1.999171   \n",
      "a360c4f1d508437b9ae022fb1334d1cb     15  2.566675      1.999950   \n",
      "...                                 ...       ...           ...   \n",
      "a441caa248d948efae5087b15d8fa1d4      3  2.153849      1.996512   \n",
      "ba8fcf38be464484ba3b736bbcfa645a     10  1.398898      1.985090   \n",
      "0f5406ec5eb84d8a9516d799e848c522     12  1.062634      1.937985   \n",
      "8184b989167c4cdf8077f53aca2a66ef     15  1.289824      0.328731   \n",
      "be46d31b7ac54a6c966ca3c5700d4bdd      3  2.153849      1.996512   \n",
      "\n",
      "                                  B_ELLIPTICITY  B_ELONGATION  B_CLASS_STAR  \\\n",
      "057970e69b654b1ea6066ff6e2ceb89a       0.659685      3.640657      0.002501   \n",
      "fe42a43758b8437eb89fb3f4c384f708       0.659685      3.640657      0.002501   \n",
      "e0ff049eb93645f68b640c94e865a079       0.334983      1.715753      0.076903   \n",
      "fdc5c1ff1e9048b09c97c55942e9a446       0.334983      1.715753      0.076903   \n",
      "a360c4f1d508437b9ae022fb1334d1cb       0.659685      3.640657      0.002501   \n",
      "...                                         ...           ...           ...   \n",
      "a441caa248d948efae5087b15d8fa1d4       0.169403      1.227921      0.021532   \n",
      "ba8fcf38be464484ba3b736bbcfa645a       0.433748      1.850050      0.002613   \n",
      "0f5406ec5eb84d8a9516d799e848c522       0.406633      1.796975      0.004612   \n",
      "8184b989167c4cdf8077f53aca2a66ef       0.483375      2.599265      0.195211   \n",
      "be46d31b7ac54a6c966ca3c5700d4bdd       0.169403      1.227921      0.021532   \n",
      "\n",
      "                                   B_FLAGS  B_EXPTIME  5_clusters  \n",
      "057970e69b654b1ea6066ff6e2ceb89a  1.998727   1.442363           1  \n",
      "fe42a43758b8437eb89fb3f4c384f708  1.998727   1.442363           1  \n",
      "e0ff049eb93645f68b640c94e865a079  1.600835   1.387821           1  \n",
      "fdc5c1ff1e9048b09c97c55942e9a446  1.600835   1.387821           1  \n",
      "a360c4f1d508437b9ae022fb1334d1cb  1.998727   1.442363           1  \n",
      "...                                    ...        ...         ...  \n",
      "a441caa248d948efae5087b15d8fa1d4  0.602180   0.944329           2  \n",
      "ba8fcf38be464484ba3b736bbcfa645a  0.012036   1.159769           2  \n",
      "0f5406ec5eb84d8a9516d799e848c522  0.013032   1.008732           2  \n",
      "8184b989167c4cdf8077f53aca2a66ef  1.253197  -0.093463           5  \n",
      "be46d31b7ac54a6c966ca3c5700d4bdd  0.602180   0.944329           2  \n",
      "\n",
      "[2104028 rows x 15 columns]\n"
     ]
    }
   ],
   "source": [
    "# Reading clusters from the parquet file\n",
    "print(f\"Reading clusters from {os.path.join(file_path, filename_clusters)}\")\n",
    "clusters = pd.read_parquet(os.path.join(file_path, \"Results\", filename_clusters))\n",
    "\n",
    "# Reading fits / ground truth labels\n",
    "print(f\"Reading ground truth labels from {os.path.join(file_path, filename_labels)}\")\n",
    "with open(os.path.join(file_path, filename_labels), 'r') as f:\n",
    "    labels_gt = json.load(f)\n",
    "\n",
    "print(clusters)"
   ]
  },
  {
   "cell_type": "code",
   "execution_count": 6,
   "metadata": {},
   "outputs": [],
   "source": [
    "# Reading fits / object mapping\n",
    "mapping_fits_obj = pd.read_parquet(os.path.join(file_path, filename_mapping), engine='auto')"
   ]
  },
  {
   "cell_type": "code",
   "execution_count": 10,
   "metadata": {},
   "outputs": [
    {
     "name": "stdout",
     "output_type": "stream",
     "text": [
      "['GOOD', 'B_SEEING', 'BGP', 'BT', 'RBT']\n"
     ]
    }
   ],
   "source": [
    "# Transform into a dictionary in order to get columns\n",
    "annotations_dict = {\n",
    "    \"Image_id\": list(labels_gt[\"annotations\"].keys()),\n",
    "    \"Label\": list(labels_gt[\"annotations\"].values())\n",
    "}\n",
    "\n",
    "annotations = pd.DataFrame(annotations_dict)\n",
    "\n",
    "# A few corrections\n",
    "# split multiple labels into separate columns\n",
    "annotations[['Label1', 'Label2']] = annotations['Label'].str.split(', ', expand=True)\n",
    "# Delete the original column\n",
    "annotations = annotations.drop(columns=['Label'])\n",
    "# Add a p to the Image_id column\n",
    "annotations['Image_id'] = annotations['Image_id'].astype(str) + 'p'\n",
    "\n",
    "print(labels_gt[\"categories\"])"
   ]
  },
  {
   "cell_type": "code",
   "execution_count": 12,
   "metadata": {},
   "outputs": [
    {
     "name": "stdout",
     "output_type": "stream",
     "text": [
      "['BGP' 'BT' 'B_SEEING' 'GOOD' 'RBT']\n",
      "[2 2 3 2]\n"
     ]
    }
   ],
   "source": [
    "# Encode ground truth labels\n",
    "label_encoder = LabelEncoder()\n",
    "label_encoder.fit(labels_gt[\"categories\"])\n",
    "print(label_encoder.classes_)\n",
    "print(label_encoder.transform(annotations[1:5]['Label1']))"
   ]
  },
  {
   "cell_type": "code",
   "execution_count": 15,
   "metadata": {},
   "outputs": [],
   "source": [
    "for index, row in mapping_fits_obj.iterrows():\n",
    "    try:\n",
    "        row[\"cluster_id\"] = clusters[row[\"OBJECT_ID\"]][\"5_clusters\"]\n",
    "    except KeyError:\n",
    "        continue"
   ]
  },
  {
   "cell_type": "code",
   "execution_count": 17,
   "metadata": {},
   "outputs": [
    {
     "ename": "KeyError",
     "evalue": "\"None of [Index(['fe42a43758b8437eb89fb3f4c384f708', 'e0ff049eb93645f68b640c94e865a079',\\n       'fdc5c1ff1e9048b09c97c55942e9a446', 'a360c4f1d508437b9ae022fb1334d1cb'],\\n      dtype='object')] are in the [columns]\"",
     "output_type": "error",
     "traceback": [
      "\u001b[0;31m---------------------------------------------------------------------------\u001b[0m",
      "\u001b[0;31mKeyError\u001b[0m                                  Traceback (most recent call last)",
      "Cell \u001b[0;32mIn[17], line 1\u001b[0m\n\u001b[0;32m----> 1\u001b[0m \u001b[38;5;28mprint\u001b[39m(\u001b[43mclusters\u001b[49m\u001b[43m[\u001b[49m\u001b[43mmapping_fits_obj\u001b[49m\u001b[43m[\u001b[49m\u001b[38;5;241;43m1\u001b[39;49m\u001b[43m:\u001b[49m\u001b[38;5;241;43m5\u001b[39;49m\u001b[43m]\u001b[49m\u001b[43m[\u001b[49m\u001b[38;5;124;43m\"\u001b[39;49m\u001b[38;5;124;43mOBJECT_ID\u001b[39;49m\u001b[38;5;124;43m\"\u001b[39;49m\u001b[43m]\u001b[49m\u001b[43m]\u001b[49m)\n",
      "File \u001b[0;32m~/miniconda3/envs/astro_quality/lib/python3.11/site-packages/pandas/core/frame.py:4108\u001b[0m, in \u001b[0;36mDataFrame.__getitem__\u001b[0;34m(self, key)\u001b[0m\n\u001b[1;32m   4106\u001b[0m     \u001b[38;5;28;01mif\u001b[39;00m is_iterator(key):\n\u001b[1;32m   4107\u001b[0m         key \u001b[38;5;241m=\u001b[39m \u001b[38;5;28mlist\u001b[39m(key)\n\u001b[0;32m-> 4108\u001b[0m     indexer \u001b[38;5;241m=\u001b[39m \u001b[38;5;28;43mself\u001b[39;49m\u001b[38;5;241;43m.\u001b[39;49m\u001b[43mcolumns\u001b[49m\u001b[38;5;241;43m.\u001b[39;49m\u001b[43m_get_indexer_strict\u001b[49m\u001b[43m(\u001b[49m\u001b[43mkey\u001b[49m\u001b[43m,\u001b[49m\u001b[43m \u001b[49m\u001b[38;5;124;43m\"\u001b[39;49m\u001b[38;5;124;43mcolumns\u001b[39;49m\u001b[38;5;124;43m\"\u001b[39;49m\u001b[43m)\u001b[49m[\u001b[38;5;241m1\u001b[39m]\n\u001b[1;32m   4110\u001b[0m \u001b[38;5;66;03m# take() does not accept boolean indexers\u001b[39;00m\n\u001b[1;32m   4111\u001b[0m \u001b[38;5;28;01mif\u001b[39;00m \u001b[38;5;28mgetattr\u001b[39m(indexer, \u001b[38;5;124m\"\u001b[39m\u001b[38;5;124mdtype\u001b[39m\u001b[38;5;124m\"\u001b[39m, \u001b[38;5;28;01mNone\u001b[39;00m) \u001b[38;5;241m==\u001b[39m \u001b[38;5;28mbool\u001b[39m:\n",
      "File \u001b[0;32m~/miniconda3/envs/astro_quality/lib/python3.11/site-packages/pandas/core/indexes/base.py:6200\u001b[0m, in \u001b[0;36mIndex._get_indexer_strict\u001b[0;34m(self, key, axis_name)\u001b[0m\n\u001b[1;32m   6197\u001b[0m \u001b[38;5;28;01melse\u001b[39;00m:\n\u001b[1;32m   6198\u001b[0m     keyarr, indexer, new_indexer \u001b[38;5;241m=\u001b[39m \u001b[38;5;28mself\u001b[39m\u001b[38;5;241m.\u001b[39m_reindex_non_unique(keyarr)\n\u001b[0;32m-> 6200\u001b[0m \u001b[38;5;28;43mself\u001b[39;49m\u001b[38;5;241;43m.\u001b[39;49m\u001b[43m_raise_if_missing\u001b[49m\u001b[43m(\u001b[49m\u001b[43mkeyarr\u001b[49m\u001b[43m,\u001b[49m\u001b[43m \u001b[49m\u001b[43mindexer\u001b[49m\u001b[43m,\u001b[49m\u001b[43m \u001b[49m\u001b[43maxis_name\u001b[49m\u001b[43m)\u001b[49m\n\u001b[1;32m   6202\u001b[0m keyarr \u001b[38;5;241m=\u001b[39m \u001b[38;5;28mself\u001b[39m\u001b[38;5;241m.\u001b[39mtake(indexer)\n\u001b[1;32m   6203\u001b[0m \u001b[38;5;28;01mif\u001b[39;00m \u001b[38;5;28misinstance\u001b[39m(key, Index):\n\u001b[1;32m   6204\u001b[0m     \u001b[38;5;66;03m# GH 42790 - Preserve name from an Index\u001b[39;00m\n",
      "File \u001b[0;32m~/miniconda3/envs/astro_quality/lib/python3.11/site-packages/pandas/core/indexes/base.py:6249\u001b[0m, in \u001b[0;36mIndex._raise_if_missing\u001b[0;34m(self, key, indexer, axis_name)\u001b[0m\n\u001b[1;32m   6247\u001b[0m \u001b[38;5;28;01mif\u001b[39;00m nmissing:\n\u001b[1;32m   6248\u001b[0m     \u001b[38;5;28;01mif\u001b[39;00m nmissing \u001b[38;5;241m==\u001b[39m \u001b[38;5;28mlen\u001b[39m(indexer):\n\u001b[0;32m-> 6249\u001b[0m         \u001b[38;5;28;01mraise\u001b[39;00m \u001b[38;5;167;01mKeyError\u001b[39;00m(\u001b[38;5;124mf\u001b[39m\u001b[38;5;124m\"\u001b[39m\u001b[38;5;124mNone of [\u001b[39m\u001b[38;5;132;01m{\u001b[39;00mkey\u001b[38;5;132;01m}\u001b[39;00m\u001b[38;5;124m] are in the [\u001b[39m\u001b[38;5;132;01m{\u001b[39;00maxis_name\u001b[38;5;132;01m}\u001b[39;00m\u001b[38;5;124m]\u001b[39m\u001b[38;5;124m\"\u001b[39m)\n\u001b[1;32m   6251\u001b[0m     not_found \u001b[38;5;241m=\u001b[39m \u001b[38;5;28mlist\u001b[39m(ensure_index(key)[missing_mask\u001b[38;5;241m.\u001b[39mnonzero()[\u001b[38;5;241m0\u001b[39m]]\u001b[38;5;241m.\u001b[39munique())\n\u001b[1;32m   6252\u001b[0m     \u001b[38;5;28;01mraise\u001b[39;00m \u001b[38;5;167;01mKeyError\u001b[39;00m(\u001b[38;5;124mf\u001b[39m\u001b[38;5;124m\"\u001b[39m\u001b[38;5;132;01m{\u001b[39;00mnot_found\u001b[38;5;132;01m}\u001b[39;00m\u001b[38;5;124m not in index\u001b[39m\u001b[38;5;124m\"\u001b[39m)\n",
      "\u001b[0;31mKeyError\u001b[0m: \"None of [Index(['fe42a43758b8437eb89fb3f4c384f708', 'e0ff049eb93645f68b640c94e865a079',\\n       'fdc5c1ff1e9048b09c97c55942e9a446', 'a360c4f1d508437b9ae022fb1334d1cb'],\\n      dtype='object')] are in the [columns]\""
     ]
    }
   ],
   "source": [
    "print(clusters[mapping_fits_obj[1:5][\"OBJECT_ID\"]])"
   ]
  }
 ],
 "metadata": {
  "kernelspec": {
   "display_name": "astro_quality",
   "language": "python",
   "name": "python3"
  },
  "language_info": {
   "codemirror_mode": {
    "name": "ipython",
    "version": 3
   },
   "file_extension": ".py",
   "mimetype": "text/x-python",
   "name": "python",
   "nbconvert_exporter": "python",
   "pygments_lexer": "ipython3",
   "version": "3.11.5"
  }
 },
 "nbformat": 4,
 "nbformat_minor": 2
}
