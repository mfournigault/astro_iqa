{
 "cells": [
  {
   "cell_type": "code",
   "execution_count": null,
   "metadata": {},
   "outputs": [],
   "source": [
    "from astropy.table import Table\n",
    "import numpy as np\n",
    "import matplotlib.pyplot as plt\n",
    "import os\n",
    "\n",
    "# IntraSom immports\n",
    "import intrasom\n",
    "from intrasom.visualization import PlotFactory\n",
    "from intrasom.clustering import ClusterFactory\n"
   ]
  },
  {
   "cell_type": "code",
   "execution_count": null,
   "metadata": {},
   "outputs": [],
   "source": [
    "root_path = \"/home/mike/git/computational_astro/astro_iqa\"\n",
    "data_path = \"data/processed\"\n",
    "catalog_name = \"som_objects_catalog.hdf5\"\n",
    "\n",
    "# Read the catalog with pandas\n",
    "filename = os.path.join(root_path, data_path, catalog_name)\n",
    "columns = [\"OBJECT_ID\", \"FITS_ID\", \"CCD_ID\", \"ISO0\", \"BACKGROUND\", \"ELLIPTICITY\", \"ELONGATION\", \"CLASS_STAR\", \"FLAGS\", \"EXPTIME\"]\n",
    "# catalog = pd.read_hdf(filename, columns=columns)\n",
    "catalog = Table.read(filename, path=\"som_catalog\", format=\"hdf5\")\n",
    "\n",
    "print(\"Overview of the catalog:\")\n",
    "print(catalog.info())"
   ]
  },
  {
   "cell_type": "code",
   "execution_count": null,
   "metadata": {},
   "outputs": [],
   "source": []
  }
 ],
 "metadata": {
  "language_info": {
   "name": "python"
  }
 },
 "nbformat": 4,
 "nbformat_minor": 2
}
