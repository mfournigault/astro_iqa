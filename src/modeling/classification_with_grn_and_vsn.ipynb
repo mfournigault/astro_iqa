{
 "cells": [
  {
   "cell_type": "markdown",
   "metadata": {
    "id": "6ZScHv201Fhg"
   },
   "source": [
    "# Classification with Gated Residual and Variable Selection Networks\n",
    "\n",
    "**Author:** [Mike Fournigault](https://www.linkedin.com/in/mike-fournigault-57312071/)<br>\n",
    "**Description:** Using Gated Residual and Variable Selection Networks for quality assessment of astronomical images.\n",
    "Freely inspired by the work of [Khalid Salama](https://keras.io/examples/structured_data/classification_with_grn_and_vsn/)"
   ]
  },
  {
   "cell_type": "markdown",
   "metadata": {
    "id": "-_il4OQJ1Fhi"
   },
   "source": [
    "## Introduction\n",
    "\n",
    "This example demonstrates the use of Gated\n",
    "Residual Networks (GRN) and Variable Selection Networks (VSN), proposed by\n",
    "Bryan Lim et al. in\n",
    "[Temporal Fusion Transformers (TFT) for Interpretable Multi-horizon Time Series Forecasting](https://arxiv.org/abs/1912.09363),\n",
    "for structured data classification. GRNs give the flexibility to the model to apply\n",
    "non-linear processing only where needed. VSNs allow the model to softly remove any\n",
    "unnecessary noisy inputs which could negatively impact performance.\n",
    "Together, those techniques help improving the learning capacity of deep neural\n",
    "network models.\n",
    "\n",
    "Note that this example implements only the GRN and VSN components described in\n",
    "in the paper, rather than the whole TFT model, as GRN and VSN can be useful on\n",
    "their own for structured data learning tasks.\n",
    "\n",
    "\n",
    "To run the code you need to use TensorFlow 2.3 or higher."
   ]
  },
  {
   "cell_type": "code",
   "execution_count": 5,
   "metadata": {
    "id": "9stLJR7J1Fhl"
   },
   "outputs": [],
   "source": [
    "import os\n",
    "import sys\n",
    "\n",
    "# Only the TensorFlow backend supports string inputs.\n",
    "os.environ[\"KERAS_BACKEND\"] = \"tensorflow\"\n",
    "\n",
    "import numpy as np\n",
    "import pandas as pd\n",
    "import tensorflow as tf\n",
    "import keras\n",
    "from keras import layers\n",
    "\n",
    "sys.path.append(os.path.abspath(\"../../src/\"))\n",
    "import mapping_fits_objects as mfo"
   ]
  },
  {
   "cell_type": "markdown",
   "metadata": {},
   "source": [
    "## Loading and preparing the datasets"
   ]
  },
  {
   "cell_type": "markdown",
   "metadata": {},
   "source": [
    "Reading and merging catalog and mapping files"
   ]
  },
  {
   "cell_type": "code",
   "execution_count": 6,
   "metadata": {},
   "outputs": [],
   "source": [
    "columns = [\"OBJECT_ID\", \"FITS_ID\", \"CCD_ID\", \"ISO0\", \"BACKGROUND\", \"ELLIPTICITY\", \"ELONGATION\", \"CLASS_STAR\", \"FLAGS\", \"EXPTIME\"]\n",
    "data_path = \"../../data/\"\n",
    "proc_path = os.path.join(data_path, \"processed\")\n",
    "fm_path = os.path.join(data_path, \"for_modeling\")\n"
   ]
  },
  {
   "cell_type": "code",
   "execution_count": 7,
   "metadata": {},
   "outputs": [],
   "source": [
    "cdc = pd.read_parquet(os.path.join(fm_path, \"objects_catalog_ngc7000.parquet.gz\"), engine='auto')"
   ]
  },
  {
   "cell_type": "code",
   "execution_count": 8,
   "metadata": {
    "id": "I-3ieSY21Fhn"
   },
   "outputs": [],
   "source": [
    "# Read all catalogs\n",
    "\n",
    "# catalog_cadc = mfo.read_catalog(os.path.join(fm_path, \"som_objects_catalog_cadc.hdf5\"), columns)\n",
    "# catalog_ngc0869 = mfo.read_catalog(os.path.join(fm_path, \"som_objects_catalog_ngc0869.hdf5\"), columns)\n",
    "# catalog_ngc0896 = mfo.read_catalog(os.path.join(fm_path, \"som_objects_catalog_ngc0896.hdf5\"), columns)\n",
    "# catalog_ngc7000 = mfo.read_catalog(os.path.join(fm_path, \"som_objects_catalog_ngc7000.hdf5\"), columns)\n",
    "catalog_cadc = pd.read_parquet(os.path.join(fm_path, \"objects_catalog_cadc2.parquet.gz\"), engine='auto')\n",
    "catalog_ngc0869 = pd.read_parquet(os.path.join(fm_path, \"objects_catalog_ngc0869.parquet.gz\"), engine='auto')\n",
    "catalog_ngc0896 = pd.read_parquet(os.path.join(fm_path, \"objects_catalog_ngc0896.parquet.gz\"), engine='auto')\n",
    "catalog_ngc7000 = pd.read_parquet(os.path.join(fm_path, \"objects_catalog_ngc7000.parquet.gz\"), engine='auto')\n",
    "\n",
    "\n",
    "# # Read all mapping files\n",
    "# mapping_fits_obj_cadc = pd.read_parquet(os.path.join(fm_path, \"fits_objects_mapping_cadc2.parquet.gz\"), engine='auto')\n",
    "# mapping_fits_obj_ngc0869 = pd.read_parquet(os.path.join(fm_path, \"fits_objects_mapping_ngc0869.parquet.gz\"), engine='auto')\n",
    "# mapping_fits_obj_ngc0896 = pd.read_parquet(os.path.join(fm_path, \"fits_objects_mapping_ngc0896.parquet.gz\"), engine='auto')\n",
    "# mapping_fits_obj_ngc7000 = pd.read_parquet(os.path.join(fm_path, \"fits_objects_mapping_ngc7000.parquet.gz\"), engine='auto')\n",
    "\n",
    "# Concatenate dataframes\n",
    "catalog = pd.concat([catalog_cadc, catalog_ngc0869, catalog_ngc0896, catalog_ngc7000], ignore_index=True)\n",
    "# mapping = pd.concat([mapping_fits_obj_cadc, mapping_fits_obj_ngc0869, mapping_fits_obj_ngc0896, mapping_fits_obj_ngc7000], ignore_index=True)\n",
    "\n"
   ]
  },
  {
   "cell_type": "markdown",
   "metadata": {},
   "source": [
    "Creating the train/val/test split"
   ]
  },
  {
   "cell_type": "code",
   "execution_count": 11,
   "metadata": {},
   "outputs": [],
   "source": [
    "# Create a selection mask for the training / validation / test set\n",
    "train_selec = np.random.rand(len(catalog.index)) < 0.8\n",
    "val_test_selec = ~train_selec\n",
    "val_selec = np.random.rand(len(val_test_selec)) < 0.5\n",
    "test_selec = ~val_selec\n",
    "\n",
    "# Create the training, validation and test sets\n",
    "# train_mapping = mapping[train_selec]\n",
    "# val_mapping = mapping[val_selec]\n",
    "# test_mapping = mapping[test_selec]\n",
    "\n",
    "catalog_train = catalog[train_selec]\n",
    "catalog_val = catalog[val_selec]\n",
    "catalog_test = catalog[test_selec]"
   ]
  },
  {
   "cell_type": "markdown",
   "metadata": {
    "id": "H_T_ZozP1Fhu"
   },
   "source": [
    "Saving the splitted datasets to files."
   ]
  },
  {
   "cell_type": "code",
   "execution_count": 12,
   "metadata": {
    "id": "lvt80a2_1Fhu"
   },
   "outputs": [],
   "source": [
    "# Save the training, validation and test sets\n",
    "# train_mapping.to_parquet(os.path.join(fm_path, \"train_mapping.parquet.gz\"), compression='gzip')\n",
    "# val_mapping.to_parquet(os.path.join(fm_path, \"val_mapping.parquet.gz\"), compression='gzip')\n",
    "# test_mapping.to_parquet(os.path.join(fm_path, \"test_mapping.parquet.gz\"), compression='gzip')\n",
    "\n",
    "catalog_train.to_parquet(os.path.join(fm_path, \"train_catalog.parquet.gz\"), compression='gzip')\n",
    "catalog_val.to_parquet(os.path.join(fm_path, \"val_catalog.parquet.gz\"), compression='gzip')\n",
    "catalog_test.to_parquet(os.path.join(fm_path, \"test_catalog.parquet.gz\"), compression='gzip')"
   ]
  },
  {
   "cell_type": "markdown",
   "metadata": {
    "id": "L7_4TmkP1Fhu"
   },
   "source": [
    "## Define dataset metadata\n",
    "\n",
    "Here, we define the metadata of the dataset that will be useful for reading and\n",
    "parsing the data into input features, and encoding the input features with respect\n",
    "to their types."
   ]
  },
  {
   "cell_type": "code",
   "execution_count": 14,
   "metadata": {
    "id": "_6mk-t_E1Fhv"
   },
   "outputs": [],
   "source": [
    "# Target feature name.\n",
    "TARGET_FEATURE_NAME = \"gt_label1\"\n",
    "# Weight column name.\n",
    "WEIGHT_COLUMN_NAME = \"instance_weight\"\n",
    "# Numeric feature names.\n",
    "NUMERIC_FEATURE_NAMES = [\n",
    "    \"ISO0\", \n",
    "    \"BACKGROUND\", \n",
    "    \"ELLIPTICITY\", \n",
    "    \"ELONGATION\", \n",
    "    \"CLASS_STAR\", \n",
    "    \"FLAGS\", \n",
    "    \"EXPTIME\"\n",
    "]\n",
    "# Categorical features and their vocabulary lists.\n",
    "# Note that we add 'v=' as a prefix to all categorical feature values to make\n",
    "# sure that they are treated as strings.\n",
    "# CATEGORICAL_FEATURES_WITH_VOCABULARY = {\n",
    "#     feature_name: sorted([str(value) for value in list(data[feature_name].unique())])\n",
    "#     for feature_name in CSV_HEADER\n",
    "#     if feature_name\n",
    "#     not in list(NUMERIC_FEATURE_NAMES + [WEIGHT_COLUMN_NAME, TARGET_FEATURE_NAME])\n",
    "# }\n",
    "CATEGORICAL_FEATURES_WITH_VOCABULARY = {}\n",
    "# All features names.\n",
    "FEATURE_NAMES = NUMERIC_FEATURE_NAMES + list(\n",
    "    CATEGORICAL_FEATURES_WITH_VOCABULARY.keys()\n",
    ")\n",
    "# Feature default values.\n",
    "COLUMN_DEFAULTS = [\n",
    "    [0.0]\n",
    "    if feature_name in NUMERIC_FEATURE_NAMES + [TARGET_FEATURE_NAME, WEIGHT_COLUMN_NAME]\n",
    "    else [\"NA\"]\n",
    "    for feature_name in FEATURE_NAMES\n",
    "]"
   ]
  },
  {
   "cell_type": "markdown",
   "metadata": {
    "id": "GM9aHN781Fhv"
   },
   "source": [
    "## Create a `tf.data.Dataset` for training and evaluation\n",
    "\n",
    "We create an input function to read and parse the file, and convert features and\n",
    "labels into a [`tf.data.Dataset`](https://www.tensorflow.org/guide/datasets) for\n",
    "training and evaluation."
   ]
  },
  {
   "cell_type": "code",
   "execution_count": 15,
   "metadata": {
    "id": "8Yx0up331Fhv"
   },
   "outputs": [],
   "source": [
    "\n",
    "def process(features, target):\n",
    "    for feature_name in features:\n",
    "        if feature_name in CATEGORICAL_FEATURES_WITH_VOCABULARY:\n",
    "            # Cast categorical feature values to string.\n",
    "            features[feature_name] = keras.ops.cast(features[feature_name], \"string\")\n",
    "    # Get the instance weight.\n",
    "    weight = features.pop(WEIGHT_COLUMN_NAME)\n",
    "    return features, target, weight\n",
    "\n",
    "\n",
    "def get_dataset_from_csv(csv_file_path, shuffle=False, batch_size=128):\n",
    "    dataset = tf.data.experimental.make_csv_dataset(\n",
    "        csv_file_path,\n",
    "        batch_size=batch_size,\n",
    "        column_names=CSV_HEADER,\n",
    "        column_defaults=COLUMN_DEFAULTS,\n",
    "        label_name=TARGET_FEATURE_NAME,\n",
    "        num_epochs=1,\n",
    "        header=False,\n",
    "        shuffle=shuffle,\n",
    "    ).map(process)\n",
    "\n",
    "    return dataset\n"
   ]
  },
  {
   "cell_type": "markdown",
   "metadata": {
    "id": "65k_ZOAv1Fhw"
   },
   "source": [
    "## Create model inputs"
   ]
  },
  {
   "cell_type": "code",
   "execution_count": 16,
   "metadata": {
    "id": "ci6TGh311Fhw"
   },
   "outputs": [],
   "source": [
    "\n",
    "def create_model_inputs():\n",
    "    inputs = {}\n",
    "    for feature_name in FEATURE_NAMES:\n",
    "        if feature_name in NUMERIC_FEATURE_NAMES:\n",
    "            inputs[feature_name] = layers.Input(\n",
    "                name=feature_name, shape=(), dtype=\"float32\"\n",
    "            )\n",
    "        else:\n",
    "            inputs[feature_name] = layers.Input(\n",
    "                name=feature_name, shape=(), dtype=\"string\"\n",
    "            )\n",
    "    return inputs\n"
   ]
  },
  {
   "cell_type": "markdown",
   "metadata": {
    "id": "0ihrS-SL1Fhw"
   },
   "source": [
    "## Encode input features\n",
    "\n",
    "For categorical features, we encode them using `layers.Embedding` using the\n",
    "`encoding_size` as the embedding dimensions. For the numerical features,\n",
    "we apply linear transformation using `layers.Dense` to project each feature into\n",
    "`encoding_size`-dimensional vector. Thus, all the encoded features will have the\n",
    "same dimensionality."
   ]
  },
  {
   "cell_type": "code",
   "execution_count": 17,
   "metadata": {
    "id": "2xucu7rj1Fhw"
   },
   "outputs": [],
   "source": [
    "\n",
    "def encode_inputs(inputs, encoding_size):\n",
    "    encoded_features = []\n",
    "    for feature_name in inputs:\n",
    "        if feature_name in CATEGORICAL_FEATURES_WITH_VOCABULARY:\n",
    "            vocabulary = CATEGORICAL_FEATURES_WITH_VOCABULARY[feature_name]\n",
    "            # Create a lookup to convert a string values to an integer indices.\n",
    "            # Since we are not using a mask token nor expecting any out of vocabulary\n",
    "            # (oov) token, we set mask_token to None and  num_oov_indices to 0.\n",
    "            index = layers.StringLookup(\n",
    "                vocabulary=vocabulary, mask_token=None, num_oov_indices=0\n",
    "            )\n",
    "            # Convert the string input values into integer indices.\n",
    "            value_index = index(inputs[feature_name])\n",
    "            # Create an embedding layer with the specified dimensions\n",
    "            embedding_ecoder = layers.Embedding(\n",
    "                input_dim=len(vocabulary), output_dim=encoding_size\n",
    "            )\n",
    "            # Convert the index values to embedding representations.\n",
    "            encoded_feature = embedding_ecoder(value_index)\n",
    "        else:\n",
    "            # Project the numeric feature to encoding_size using linear transformation.\n",
    "            encoded_feature = keras.ops.expand_dims(inputs[feature_name], -1)\n",
    "            encoded_feature = layers.Dense(units=encoding_size)(encoded_feature)\n",
    "        encoded_features.append(encoded_feature)\n",
    "    return encoded_features\n"
   ]
  },
  {
   "cell_type": "markdown",
   "metadata": {
    "id": "CZffndC01Fhx"
   },
   "source": [
    "## Implement the Gated Linear Unit\n",
    "\n",
    "[Gated Linear Units (GLUs)](https://arxiv.org/abs/1612.08083) provide the\n",
    "flexibility to suppress input that are not relevant for a given task."
   ]
  },
  {
   "cell_type": "code",
   "execution_count": 18,
   "metadata": {
    "id": "S7u7d3tM1Fhx"
   },
   "outputs": [],
   "source": [
    "\n",
    "class GatedLinearUnit(layers.Layer):\n",
    "    def __init__(self, units):\n",
    "        super().__init__()\n",
    "        self.linear = layers.Dense(units)\n",
    "        self.sigmoid = layers.Dense(units, activation=\"sigmoid\")\n",
    "\n",
    "    def call(self, inputs):\n",
    "        return self.linear(inputs) * self.sigmoid(inputs)\n"
   ]
  },
  {
   "cell_type": "markdown",
   "metadata": {
    "id": "bOuHuexi1Fhx"
   },
   "source": [
    "## Implement the Gated Residual Network\n",
    "\n",
    "The Gated Residual Network (GRN) works as follows:\n",
    "\n",
    "1. Applies the nonlinear ELU transformation to the inputs.\n",
    "2. Applies linear transformation followed by dropout.\n",
    "4. Applies GLU and adds the original inputs to the output of the GLU to perform skip\n",
    "(residual) connection.\n",
    "6. Applies layer normalization and produces the output."
   ]
  },
  {
   "cell_type": "code",
   "execution_count": 19,
   "metadata": {
    "id": "ucPVEYCP1Fhx"
   },
   "outputs": [],
   "source": [
    "\n",
    "class GatedResidualNetwork(layers.Layer):\n",
    "    def __init__(self, units, dropout_rate):\n",
    "        super().__init__()\n",
    "        self.units = units\n",
    "        self.elu_dense = layers.Dense(units, activation=\"elu\")\n",
    "        self.linear_dense = layers.Dense(units)\n",
    "        self.dropout = layers.Dropout(dropout_rate)\n",
    "        self.gated_linear_unit = GatedLinearUnit(units)\n",
    "        self.layer_norm = layers.LayerNormalization()\n",
    "        self.project = layers.Dense(units)\n",
    "\n",
    "    def call(self, inputs):\n",
    "        x = self.elu_dense(inputs)\n",
    "        x = self.linear_dense(x)\n",
    "        x = self.dropout(x)\n",
    "        if inputs.shape[-1] != self.units:\n",
    "            inputs = self.project(inputs)\n",
    "        x = inputs + self.gated_linear_unit(x)\n",
    "        x = self.layer_norm(x)\n",
    "        return x\n"
   ]
  },
  {
   "cell_type": "markdown",
   "metadata": {
    "id": "OxXo0dUI1Fhy"
   },
   "source": [
    "## Implement the Variable Selection Network\n",
    "\n",
    "The Variable Selection Network (VSN) works as follows:\n",
    "\n",
    "1. Applies a GRN to each feature individually.\n",
    "2. Applies a GRN on the concatenation of all the features, followed by a softmax to\n",
    "produce feature weights.\n",
    "3. Produces a weighted sum of the output of the individual GRN.\n",
    "\n",
    "Note that the output of the VSN is [batch_size, encoding_size], regardless of the\n",
    "number of the input features."
   ]
  },
  {
   "cell_type": "code",
   "execution_count": 20,
   "metadata": {
    "id": "oyCpNdq31Fhy"
   },
   "outputs": [],
   "source": [
    "\n",
    "class VariableSelection(layers.Layer):\n",
    "    def __init__(self, num_features, units, dropout_rate):\n",
    "        super().__init__()\n",
    "        self.grns = list()\n",
    "        # Create a GRN for each feature independently\n",
    "        for idx in range(num_features):\n",
    "            grn = GatedResidualNetwork(units, dropout_rate)\n",
    "            self.grns.append(grn)\n",
    "        # Create a GRN for the concatenation of all the features\n",
    "        self.grn_concat = GatedResidualNetwork(units, dropout_rate)\n",
    "        self.softmax = layers.Dense(units=num_features, activation=\"softmax\")\n",
    "\n",
    "    def call(self, inputs):\n",
    "        v = layers.concatenate(inputs)\n",
    "        v = self.grn_concat(v)\n",
    "        v = keras.ops.expand_dims(self.softmax(v), axis=-1)\n",
    "\n",
    "        x = []\n",
    "        for idx, input in enumerate(inputs):\n",
    "            x.append(self.grns[idx](input))\n",
    "        x = keras.ops.stack(x, axis=1)\n",
    "\n",
    "        outputs = keras.ops.squeeze(tf.matmul(v, x, transpose_a=True), axis=1)\n",
    "        return outputs\n"
   ]
  },
  {
   "cell_type": "markdown",
   "metadata": {
    "id": "3L7O1kwx1Fhz"
   },
   "source": [
    "## Create Gated Residual and Variable Selection Networks model"
   ]
  },
  {
   "cell_type": "code",
   "execution_count": 21,
   "metadata": {
    "id": "Vc-edCvU1Fhz"
   },
   "outputs": [],
   "source": [
    "\n",
    "def create_model(encoding_size):\n",
    "    inputs = create_model_inputs()\n",
    "    feature_list = encode_inputs(inputs, encoding_size)\n",
    "    num_features = len(feature_list)\n",
    "\n",
    "    features = VariableSelection(num_features, encoding_size, dropout_rate)(\n",
    "        feature_list\n",
    "    )\n",
    "\n",
    "    outputs = layers.Dense(units=1, activation=\"sigmoid\")(features)\n",
    "    model = keras.Model(inputs=inputs, outputs=outputs)\n",
    "    return model\n"
   ]
  },
  {
   "cell_type": "markdown",
   "metadata": {
    "id": "7jcCqDkx1Fhz"
   },
   "source": [
    "## Compile, train, and evaluate the model"
   ]
  },
  {
   "cell_type": "code",
   "execution_count": 22,
   "metadata": {
    "id": "Ul_Y9bz71Fh0"
   },
   "outputs": [
    {
     "ename": "AttributeError",
     "evalue": "module 'keras' has no attribute 'ops'",
     "output_type": "error",
     "traceback": [
      "\u001b[0;31m---------------------------------------------------------------------------\u001b[0m",
      "\u001b[0;31mAttributeError\u001b[0m                            Traceback (most recent call last)",
      "Cell \u001b[0;32mIn[22], line 7\u001b[0m\n\u001b[1;32m      4\u001b[0m num_epochs \u001b[38;5;241m=\u001b[39m \u001b[38;5;241m20\u001b[39m\n\u001b[1;32m      5\u001b[0m encoding_size \u001b[38;5;241m=\u001b[39m \u001b[38;5;241m16\u001b[39m\n\u001b[0;32m----> 7\u001b[0m model \u001b[38;5;241m=\u001b[39m \u001b[43mcreate_model\u001b[49m\u001b[43m(\u001b[49m\u001b[43mencoding_size\u001b[49m\u001b[43m)\u001b[49m\n\u001b[1;32m      8\u001b[0m model\u001b[38;5;241m.\u001b[39mcompile(\n\u001b[1;32m      9\u001b[0m     optimizer\u001b[38;5;241m=\u001b[39mkeras\u001b[38;5;241m.\u001b[39moptimizers\u001b[38;5;241m.\u001b[39mAdam(learning_rate\u001b[38;5;241m=\u001b[39mlearning_rate),\n\u001b[1;32m     10\u001b[0m     loss\u001b[38;5;241m=\u001b[39mkeras\u001b[38;5;241m.\u001b[39mlosses\u001b[38;5;241m.\u001b[39mBinaryCrossentropy(),\n\u001b[1;32m     11\u001b[0m     metrics\u001b[38;5;241m=\u001b[39m[keras\u001b[38;5;241m.\u001b[39mmetrics\u001b[38;5;241m.\u001b[39mBinaryAccuracy(name\u001b[38;5;241m=\u001b[39m\u001b[38;5;124m\"\u001b[39m\u001b[38;5;124maccuracy\u001b[39m\u001b[38;5;124m\"\u001b[39m)],\n\u001b[1;32m     12\u001b[0m )\n\u001b[1;32m     15\u001b[0m \u001b[38;5;66;03m# Create an early stopping callback.\u001b[39;00m\n",
      "Cell \u001b[0;32mIn[21], line 3\u001b[0m, in \u001b[0;36mcreate_model\u001b[0;34m(encoding_size)\u001b[0m\n\u001b[1;32m      1\u001b[0m \u001b[38;5;28;01mdef\u001b[39;00m \u001b[38;5;21mcreate_model\u001b[39m(encoding_size):\n\u001b[1;32m      2\u001b[0m     inputs \u001b[38;5;241m=\u001b[39m create_model_inputs()\n\u001b[0;32m----> 3\u001b[0m     feature_list \u001b[38;5;241m=\u001b[39m \u001b[43mencode_inputs\u001b[49m\u001b[43m(\u001b[49m\u001b[43minputs\u001b[49m\u001b[43m,\u001b[49m\u001b[43m \u001b[49m\u001b[43mencoding_size\u001b[49m\u001b[43m)\u001b[49m\n\u001b[1;32m      4\u001b[0m     num_features \u001b[38;5;241m=\u001b[39m \u001b[38;5;28mlen\u001b[39m(feature_list)\n\u001b[1;32m      6\u001b[0m     features \u001b[38;5;241m=\u001b[39m VariableSelection(num_features, encoding_size, dropout_rate)(\n\u001b[1;32m      7\u001b[0m         feature_list\n\u001b[1;32m      8\u001b[0m     )\n",
      "Cell \u001b[0;32mIn[17], line 22\u001b[0m, in \u001b[0;36mencode_inputs\u001b[0;34m(inputs, encoding_size)\u001b[0m\n\u001b[1;32m     19\u001b[0m     encoded_feature \u001b[38;5;241m=\u001b[39m embedding_ecoder(value_index)\n\u001b[1;32m     20\u001b[0m \u001b[38;5;28;01melse\u001b[39;00m:\n\u001b[1;32m     21\u001b[0m     \u001b[38;5;66;03m# Project the numeric feature to encoding_size using linear transformation.\u001b[39;00m\n\u001b[0;32m---> 22\u001b[0m     encoded_feature \u001b[38;5;241m=\u001b[39m \u001b[43mkeras\u001b[49m\u001b[38;5;241;43m.\u001b[39;49m\u001b[43mops\u001b[49m\u001b[38;5;241m.\u001b[39mexpand_dims(inputs[feature_name], \u001b[38;5;241m-\u001b[39m\u001b[38;5;241m1\u001b[39m)\n\u001b[1;32m     23\u001b[0m     encoded_feature \u001b[38;5;241m=\u001b[39m layers\u001b[38;5;241m.\u001b[39mDense(units\u001b[38;5;241m=\u001b[39mencoding_size)(encoded_feature)\n\u001b[1;32m     24\u001b[0m encoded_features\u001b[38;5;241m.\u001b[39mappend(encoded_feature)\n",
      "\u001b[0;31mAttributeError\u001b[0m: module 'keras' has no attribute 'ops'"
     ]
    }
   ],
   "source": [
    "learning_rate = 0.001\n",
    "dropout_rate = 0.15\n",
    "batch_size = 265\n",
    "num_epochs = 20\n",
    "encoding_size = 16\n",
    "\n",
    "model = create_model(encoding_size)\n",
    "model.compile(\n",
    "    optimizer=keras.optimizers.Adam(learning_rate=learning_rate),\n",
    "    loss=keras.losses.BinaryCrossentropy(),\n",
    "    metrics=[keras.metrics.BinaryAccuracy(name=\"accuracy\")],\n",
    ")\n",
    "\n",
    "\n",
    "# Create an early stopping callback.\n",
    "early_stopping = keras.callbacks.EarlyStopping(\n",
    "    monitor=\"val_loss\", patience=5, restore_best_weights=True\n",
    ")\n",
    "\n",
    "print(\"Start training the model...\")\n",
    "train_dataset = get_dataset_from_csv(\n",
    "    train_data_file, shuffle=True, batch_size=batch_size\n",
    ")\n",
    "valid_dataset = get_dataset_from_csv(valid_data_file, batch_size=batch_size)\n",
    "model.fit(\n",
    "    train_dataset,\n",
    "    epochs=num_epochs,\n",
    "    validation_data=valid_dataset,\n",
    "    callbacks=[early_stopping],\n",
    ")\n",
    "print(\"Model training finished.\")\n",
    "\n",
    "print(\"Evaluating model performance...\")\n",
    "test_dataset = get_dataset_from_csv(test_data_file, batch_size=batch_size)\n",
    "_, accuracy = model.evaluate(test_dataset)\n",
    "print(f\"Test accuracy: {round(accuracy * 100, 2)}%\")"
   ]
  },
  {
   "cell_type": "markdown",
   "metadata": {
    "id": "PvofpNi01Fh1"
   },
   "source": [
    "You should achieve more than 95% accuracy on the test set.\n",
    "\n",
    "To increase the learning capacity of the model, you can try increasing the\n",
    "`encoding_size` value, or stacking multiple GRN layers on top of the VSN layer.\n",
    "This may require to also increase the `dropout_rate` value to avoid overfitting."
   ]
  },
  {
   "cell_type": "markdown",
   "metadata": {
    "id": "3rGQlNoI1Fh1"
   },
   "source": [
    "**Example available on HuggingFace**\n",
    "\n",
    "| Trained Model | Demo |\n",
    "| :--: | :--: |\n",
    "| [![Generic badge](https://img.shields.io/badge/%F0%9F%A4%97%20Model-Classification%20With%20GRN%20%26%20VSN-red)](https://huggingface.co/keras-io/structured-data-classification-grn-vsn) | [![Generic badge](https://img.shields.io/badge/%F0%9F%A4%97%20Space-Classification%20With%20GRN%20%26%20VSN-red)](https://huggingface.co/spaces/keras-io/structured-data-classification-grn-vsn) |"
   ]
  }
 ],
 "metadata": {
  "accelerator": "GPU",
  "colab": {
   "name": "classification_with_grn_and_vsn",
   "provenance": [],
   "toc_visible": true
  },
  "kernelspec": {
   "display_name": "astro_quality",
   "language": "python",
   "name": "python3"
  },
  "language_info": {
   "codemirror_mode": {
    "name": "ipython",
    "version": 3
   },
   "file_extension": ".py",
   "mimetype": "text/x-python",
   "name": "python",
   "nbconvert_exporter": "python",
   "pygments_lexer": "ipython3",
   "version": "3.11.5"
  }
 },
 "nbformat": 4,
 "nbformat_minor": 0
}
